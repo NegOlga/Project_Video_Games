{
 "cells": [
  {
   "cell_type": "markdown",
   "id": "e51794de",
   "metadata": {},
   "source": [
    "# Video Game Market Research"
   ]
  },
  {
   "cell_type": "markdown",
   "id": "16ef2bcd",
   "metadata": {},
   "source": [
    "**Description**"
   ]
  },
  {
   "cell_type": "markdown",
   "id": "3f061492",
   "metadata": {},
   "source": [
    "Online shop 'V-games' sells video games all over the world. It has the data about video games market before 2016. They'd like to find out what kind of games will gain the popularity in 2017. It will allow the shop to place a bet on a potentially popular product and plan advertising campaigns."
   ]
  },
  {
   "cell_type": "markdown",
   "id": "622207bb",
   "metadata": {},
   "source": [
    "**The aim of research:** to establish the main characteristics of a video game that will be the most profitable in 2017"
   ]
  },
  {
   "cell_type": "markdown",
   "id": "c084b608",
   "metadata": {},
   "source": [
    "**Objectives of an issue:**\n",
    "- to make a research of video game market and find out the markets' trends\n",
    "- to analyze the consumer profiles from different regions\n",
    "- to check the hypothesis: 'The average user ratings of the platforms Xbox One и PC are the same' and 'The average user ratings of the genres Action and Sports are different'."
   ]
  },
  {
   "cell_type": "markdown",
   "id": "d4dbc58e",
   "metadata": {},
   "source": [
    "**Content:**\n",
    "1. [Reading and understanding data](#Step1)\n",
    "2. [Data preparation](#Step2)\n",
    "3. [Explanatory data analysis](#Step3) <br />\n",
    "\n",
    "    3.1. [The dependence of the number of games on the year of release](#Step3.1)<br />\n",
    "    3.2. [The dependence of the platform on the year of release](#Step3.2)<br />\n",
    "    3.3. [Perspective platforms](#Step3.3)<br />\n",
    "    3.4. [The dependence of total_sales on the user_score and critic_score](#Step3.4)<br />\n",
    "    3.5. [The dependence of total_sales on the genre of a game](#Step3.5)<br />\n",
    "    <br />\n",
    "4. [The user profile](#Step4)<br />\n",
    "\n",
    "    4.1 [The dependence of the platform on the region](#Step4.1)<br />\n",
    "    4.2.[The dependence of the genre on the region](#Step4.2)<br />\n",
    "    4.3.[The dependence of the ESRB rating on the sales in the regions](#Step4.3)<br />\n",
    "    <br />\n",
    "5. [Statistical hypothesis testing](#Step5)<br />\n",
    "\n",
    "    5.1.[Hypothesis testing: The average user ratings of the platforms Xbox One и PC are the same](#Step5.1)<br />\n",
    "    5.2.[Hypothesis testing: The average user ratings of the genres Action and Sports are different](#Step5.2)<br />\n",
    "    <br />\n",
    "6.[Conclusion](#Step6)<br />\n",
    "    "
   ]
  },
  {
   "cell_type": "markdown",
   "id": "64336b46",
   "metadata": {},
   "source": [
    "<a class=\"anchor\" id=\"Step1\"></a>\n",
    "##  1. Reading and understanding data"
   ]
  },
  {
   "cell_type": "code",
   "execution_count": 1,
   "id": "638df3b2",
   "metadata": {},
   "outputs": [],
   "source": [
    "import numpy as np\n",
    "import pandas as pd\n",
    "import matplotlib.pyplot as plt\n",
    "import seaborn as sns\n",
    "from scipy import stats as st"
   ]
  },
  {
   "cell_type": "code",
   "execution_count": 2,
   "id": "4f497b79",
   "metadata": {},
   "outputs": [],
   "source": [
    "url = 'https://raw.githubusercontent.com/NegOlga/Project_Video_Games/main/games.csv'\n",
    "data = pd.read_csv(url)"
   ]
  },
  {
   "cell_type": "code",
   "execution_count": 3,
   "id": "bd7b4342",
   "metadata": {},
   "outputs": [
    {
     "data": {
      "text/html": [
       "<div>\n",
       "<style scoped>\n",
       "    .dataframe tbody tr th:only-of-type {\n",
       "        vertical-align: middle;\n",
       "    }\n",
       "\n",
       "    .dataframe tbody tr th {\n",
       "        vertical-align: top;\n",
       "    }\n",
       "\n",
       "    .dataframe thead th {\n",
       "        text-align: right;\n",
       "    }\n",
       "</style>\n",
       "<table border=\"1\" class=\"dataframe\">\n",
       "  <thead>\n",
       "    <tr style=\"text-align: right;\">\n",
       "      <th></th>\n",
       "      <th>Name</th>\n",
       "      <th>Platform</th>\n",
       "      <th>Year_of_Release</th>\n",
       "      <th>Genre</th>\n",
       "      <th>NA_sales</th>\n",
       "      <th>EU_sales</th>\n",
       "      <th>JP_sales</th>\n",
       "      <th>Other_sales</th>\n",
       "      <th>Critic_Score</th>\n",
       "      <th>User_Score</th>\n",
       "      <th>Rating</th>\n",
       "    </tr>\n",
       "  </thead>\n",
       "  <tbody>\n",
       "    <tr>\n",
       "      <th>0</th>\n",
       "      <td>Wii Sports</td>\n",
       "      <td>Wii</td>\n",
       "      <td>2006.0</td>\n",
       "      <td>Sports</td>\n",
       "      <td>41.36</td>\n",
       "      <td>28.96</td>\n",
       "      <td>3.77</td>\n",
       "      <td>8.45</td>\n",
       "      <td>76.0</td>\n",
       "      <td>8</td>\n",
       "      <td>E</td>\n",
       "    </tr>\n",
       "    <tr>\n",
       "      <th>1</th>\n",
       "      <td>Super Mario Bros.</td>\n",
       "      <td>NES</td>\n",
       "      <td>1985.0</td>\n",
       "      <td>Platform</td>\n",
       "      <td>29.08</td>\n",
       "      <td>3.58</td>\n",
       "      <td>6.81</td>\n",
       "      <td>0.77</td>\n",
       "      <td>NaN</td>\n",
       "      <td>NaN</td>\n",
       "      <td>NaN</td>\n",
       "    </tr>\n",
       "    <tr>\n",
       "      <th>2</th>\n",
       "      <td>Mario Kart Wii</td>\n",
       "      <td>Wii</td>\n",
       "      <td>2008.0</td>\n",
       "      <td>Racing</td>\n",
       "      <td>15.68</td>\n",
       "      <td>12.76</td>\n",
       "      <td>3.79</td>\n",
       "      <td>3.29</td>\n",
       "      <td>82.0</td>\n",
       "      <td>8.3</td>\n",
       "      <td>E</td>\n",
       "    </tr>\n",
       "    <tr>\n",
       "      <th>3</th>\n",
       "      <td>Wii Sports Resort</td>\n",
       "      <td>Wii</td>\n",
       "      <td>2009.0</td>\n",
       "      <td>Sports</td>\n",
       "      <td>15.61</td>\n",
       "      <td>10.93</td>\n",
       "      <td>3.28</td>\n",
       "      <td>2.95</td>\n",
       "      <td>80.0</td>\n",
       "      <td>8</td>\n",
       "      <td>E</td>\n",
       "    </tr>\n",
       "    <tr>\n",
       "      <th>4</th>\n",
       "      <td>Pokemon Red/Pokemon Blue</td>\n",
       "      <td>GB</td>\n",
       "      <td>1996.0</td>\n",
       "      <td>Role-Playing</td>\n",
       "      <td>11.27</td>\n",
       "      <td>8.89</td>\n",
       "      <td>10.22</td>\n",
       "      <td>1.00</td>\n",
       "      <td>NaN</td>\n",
       "      <td>NaN</td>\n",
       "      <td>NaN</td>\n",
       "    </tr>\n",
       "  </tbody>\n",
       "</table>\n",
       "</div>"
      ],
      "text/plain": [
       "                       Name Platform  Year_of_Release         Genre  NA_sales  \\\n",
       "0                Wii Sports      Wii           2006.0        Sports     41.36   \n",
       "1         Super Mario Bros.      NES           1985.0      Platform     29.08   \n",
       "2            Mario Kart Wii      Wii           2008.0        Racing     15.68   \n",
       "3         Wii Sports Resort      Wii           2009.0        Sports     15.61   \n",
       "4  Pokemon Red/Pokemon Blue       GB           1996.0  Role-Playing     11.27   \n",
       "\n",
       "   EU_sales  JP_sales  Other_sales  Critic_Score User_Score Rating  \n",
       "0     28.96      3.77         8.45          76.0          8      E  \n",
       "1      3.58      6.81         0.77           NaN        NaN    NaN  \n",
       "2     12.76      3.79         3.29          82.0        8.3      E  \n",
       "3     10.93      3.28         2.95          80.0          8      E  \n",
       "4      8.89     10.22         1.00           NaN        NaN    NaN  "
      ]
     },
     "execution_count": 3,
     "metadata": {},
     "output_type": "execute_result"
    }
   ],
   "source": [
    "data.head()"
   ]
  },
  {
   "cell_type": "code",
   "execution_count": 4,
   "id": "30399fe6",
   "metadata": {},
   "outputs": [
    {
     "name": "stdout",
     "output_type": "stream",
     "text": [
      "<class 'pandas.core.frame.DataFrame'>\n",
      "RangeIndex: 16715 entries, 0 to 16714\n",
      "Data columns (total 11 columns):\n",
      " #   Column           Non-Null Count  Dtype  \n",
      "---  ------           --------------  -----  \n",
      " 0   Name             16713 non-null  object \n",
      " 1   Platform         16715 non-null  object \n",
      " 2   Year_of_Release  16446 non-null  float64\n",
      " 3   Genre            16713 non-null  object \n",
      " 4   NA_sales         16715 non-null  float64\n",
      " 5   EU_sales         16715 non-null  float64\n",
      " 6   JP_sales         16715 non-null  float64\n",
      " 7   Other_sales      16715 non-null  float64\n",
      " 8   Critic_Score     8137 non-null   float64\n",
      " 9   User_Score       10014 non-null  object \n",
      " 10  Rating           9949 non-null   object \n",
      "dtypes: float64(6), object(5)\n",
      "memory usage: 1.4+ MB\n"
     ]
    }
   ],
   "source": [
    "data.info()"
   ]
  },
  {
   "cell_type": "code",
   "execution_count": 5,
   "id": "5b0cb2a2",
   "metadata": {},
   "outputs": [
    {
     "data": {
      "image/png": "[encoded data removed]",
      "text/plain": [
       "<Figure size 720x720 with 6 Axes>"
      ]
     },
     "metadata": {
      "needs_background": "light"
     },
     "output_type": "display_data"
    }
   ],
   "source": [
    "data.hist(figsize=(10,10));"
   ]
  },
  {
   "cell_type": "markdown",
   "id": "3a8065f4",
   "metadata": {},
   "source": [
    "**Conclusion:** Initial dataset contains 16 715 rows and 11 columns. The distribution of datas is near-normal. There are some outliers in the dataset - it's necessary to prepare the datas."
   ]
  },
  {
   "cell_type": "markdown",
   "id": "f181aaf0",
   "metadata": {},
   "source": [
    "<a class=\"anchor\" id=\"Step2\"></a>\n",
    "## 2. Data preparation"
   ]
  },
  {
   "cell_type": "code",
   "execution_count": 6,
   "id": "da86c704",
   "metadata": {},
   "outputs": [],
   "source": [
    "data.columns = map(str.lower, data.columns)"
   ]
  },
  {
   "cell_type": "code",
   "execution_count": 7,
   "id": "4c170a58",
   "metadata": {},
   "outputs": [],
   "source": [
    "data['name'] = data['name'].str.lower()\n",
    "data['platform'] = data['platform'].str.lower()\n",
    "data['genre'] = data['genre'].str.lower()"
   ]
  },
  {
   "cell_type": "code",
   "execution_count": 8,
   "id": "65b9b8e6",
   "metadata": {},
   "outputs": [
    {
     "data": {
      "text/html": [
       "<div>\n",
       "<style scoped>\n",
       "    .dataframe tbody tr th:only-of-type {\n",
       "        vertical-align: middle;\n",
       "    }\n",
       "\n",
       "    .dataframe tbody tr th {\n",
       "        vertical-align: top;\n",
       "    }\n",
       "\n",
       "    .dataframe thead th {\n",
       "        text-align: right;\n",
       "    }\n",
       "</style>\n",
       "<table border=\"1\" class=\"dataframe\">\n",
       "  <thead>\n",
       "    <tr style=\"text-align: right;\">\n",
       "      <th></th>\n",
       "      <th>name</th>\n",
       "      <th>platform</th>\n",
       "      <th>year_of_release</th>\n",
       "      <th>genre</th>\n",
       "      <th>na_sales</th>\n",
       "      <th>eu_sales</th>\n",
       "      <th>jp_sales</th>\n",
       "      <th>other_sales</th>\n",
       "      <th>critic_score</th>\n",
       "      <th>user_score</th>\n",
       "      <th>rating</th>\n",
       "    </tr>\n",
       "  </thead>\n",
       "  <tbody>\n",
       "    <tr>\n",
       "      <th>0</th>\n",
       "      <td>wii sports</td>\n",
       "      <td>wii</td>\n",
       "      <td>2006.0</td>\n",
       "      <td>sports</td>\n",
       "      <td>41.36</td>\n",
       "      <td>28.96</td>\n",
       "      <td>3.77</td>\n",
       "      <td>8.45</td>\n",
       "      <td>76.0</td>\n",
       "      <td>8</td>\n",
       "      <td>E</td>\n",
       "    </tr>\n",
       "    <tr>\n",
       "      <th>1</th>\n",
       "      <td>super mario bros.</td>\n",
       "      <td>nes</td>\n",
       "      <td>1985.0</td>\n",
       "      <td>platform</td>\n",
       "      <td>29.08</td>\n",
       "      <td>3.58</td>\n",
       "      <td>6.81</td>\n",
       "      <td>0.77</td>\n",
       "      <td>NaN</td>\n",
       "      <td>NaN</td>\n",
       "      <td>NaN</td>\n",
       "    </tr>\n",
       "    <tr>\n",
       "      <th>2</th>\n",
       "      <td>mario kart wii</td>\n",
       "      <td>wii</td>\n",
       "      <td>2008.0</td>\n",
       "      <td>racing</td>\n",
       "      <td>15.68</td>\n",
       "      <td>12.76</td>\n",
       "      <td>3.79</td>\n",
       "      <td>3.29</td>\n",
       "      <td>82.0</td>\n",
       "      <td>8.3</td>\n",
       "      <td>E</td>\n",
       "    </tr>\n",
       "    <tr>\n",
       "      <th>3</th>\n",
       "      <td>wii sports resort</td>\n",
       "      <td>wii</td>\n",
       "      <td>2009.0</td>\n",
       "      <td>sports</td>\n",
       "      <td>15.61</td>\n",
       "      <td>10.93</td>\n",
       "      <td>3.28</td>\n",
       "      <td>2.95</td>\n",
       "      <td>80.0</td>\n",
       "      <td>8</td>\n",
       "      <td>E</td>\n",
       "    </tr>\n",
       "    <tr>\n",
       "      <th>4</th>\n",
       "      <td>pokemon red/pokemon blue</td>\n",
       "      <td>gb</td>\n",
       "      <td>1996.0</td>\n",
       "      <td>role-playing</td>\n",
       "      <td>11.27</td>\n",
       "      <td>8.89</td>\n",
       "      <td>10.22</td>\n",
       "      <td>1.00</td>\n",
       "      <td>NaN</td>\n",
       "      <td>NaN</td>\n",
       "      <td>NaN</td>\n",
       "    </tr>\n",
       "  </tbody>\n",
       "</table>\n",
       "</div>"
      ],
      "text/plain": [
       "                       name platform  year_of_release         genre  na_sales  \\\n",
       "0                wii sports      wii           2006.0        sports     41.36   \n",
       "1         super mario bros.      nes           1985.0      platform     29.08   \n",
       "2            mario kart wii      wii           2008.0        racing     15.68   \n",
       "3         wii sports resort      wii           2009.0        sports     15.61   \n",
       "4  pokemon red/pokemon blue       gb           1996.0  role-playing     11.27   \n",
       "\n",
       "   eu_sales  jp_sales  other_sales  critic_score user_score rating  \n",
       "0     28.96      3.77         8.45          76.0          8      E  \n",
       "1      3.58      6.81         0.77           NaN        NaN    NaN  \n",
       "2     12.76      3.79         3.29          82.0        8.3      E  \n",
       "3     10.93      3.28         2.95          80.0          8      E  \n",
       "4      8.89     10.22         1.00           NaN        NaN    NaN  "
      ]
     },
     "execution_count": 8,
     "metadata": {},
     "output_type": "execute_result"
    }
   ],
   "source": [
    "data.head()"
   ]
  },
  {
   "cell_type": "code",
   "execution_count": 9,
   "id": "83156f7a",
   "metadata": {},
   "outputs": [],
   "source": [
    "#convert the data type\n",
    "data['year_of_release'].astype('int',errors='ignore')\n",
    "data['user_score'] = pd.to_numeric(data['user_score'], errors = 'coerce')"
   ]
  },
  {
   "cell_type": "code",
   "execution_count": 10,
   "id": "dce25f60",
   "metadata": {},
   "outputs": [
    {
     "data": {
      "text/html": [
       "<div>\n",
       "<style scoped>\n",
       "    .dataframe tbody tr th:only-of-type {\n",
       "        vertical-align: middle;\n",
       "    }\n",
       "\n",
       "    .dataframe tbody tr th {\n",
       "        vertical-align: top;\n",
       "    }\n",
       "\n",
       "    .dataframe thead th {\n",
       "        text-align: right;\n",
       "    }\n",
       "</style>\n",
       "<table border=\"1\" class=\"dataframe\">\n",
       "  <thead>\n",
       "    <tr style=\"text-align: right;\">\n",
       "      <th></th>\n",
       "      <th>name</th>\n",
       "      <th>platform</th>\n",
       "      <th>year_of_release</th>\n",
       "      <th>genre</th>\n",
       "      <th>na_sales</th>\n",
       "      <th>eu_sales</th>\n",
       "      <th>jp_sales</th>\n",
       "      <th>other_sales</th>\n",
       "      <th>critic_score</th>\n",
       "      <th>user_score</th>\n",
       "      <th>rating</th>\n",
       "    </tr>\n",
       "  </thead>\n",
       "  <tbody>\n",
       "    <tr>\n",
       "      <th>0</th>\n",
       "      <td>wii sports</td>\n",
       "      <td>wii</td>\n",
       "      <td>2006.0</td>\n",
       "      <td>sports</td>\n",
       "      <td>41.36</td>\n",
       "      <td>28.96</td>\n",
       "      <td>3.77</td>\n",
       "      <td>8.45</td>\n",
       "      <td>76.0</td>\n",
       "      <td>8.0</td>\n",
       "      <td>E</td>\n",
       "    </tr>\n",
       "    <tr>\n",
       "      <th>1</th>\n",
       "      <td>super mario bros.</td>\n",
       "      <td>nes</td>\n",
       "      <td>1985.0</td>\n",
       "      <td>platform</td>\n",
       "      <td>29.08</td>\n",
       "      <td>3.58</td>\n",
       "      <td>6.81</td>\n",
       "      <td>0.77</td>\n",
       "      <td>NaN</td>\n",
       "      <td>NaN</td>\n",
       "      <td>NaN</td>\n",
       "    </tr>\n",
       "    <tr>\n",
       "      <th>2</th>\n",
       "      <td>mario kart wii</td>\n",
       "      <td>wii</td>\n",
       "      <td>2008.0</td>\n",
       "      <td>racing</td>\n",
       "      <td>15.68</td>\n",
       "      <td>12.76</td>\n",
       "      <td>3.79</td>\n",
       "      <td>3.29</td>\n",
       "      <td>82.0</td>\n",
       "      <td>8.3</td>\n",
       "      <td>E</td>\n",
       "    </tr>\n",
       "    <tr>\n",
       "      <th>3</th>\n",
       "      <td>wii sports resort</td>\n",
       "      <td>wii</td>\n",
       "      <td>2009.0</td>\n",
       "      <td>sports</td>\n",
       "      <td>15.61</td>\n",
       "      <td>10.93</td>\n",
       "      <td>3.28</td>\n",
       "      <td>2.95</td>\n",
       "      <td>80.0</td>\n",
       "      <td>8.0</td>\n",
       "      <td>E</td>\n",
       "    </tr>\n",
       "    <tr>\n",
       "      <th>4</th>\n",
       "      <td>pokemon red/pokemon blue</td>\n",
       "      <td>gb</td>\n",
       "      <td>1996.0</td>\n",
       "      <td>role-playing</td>\n",
       "      <td>11.27</td>\n",
       "      <td>8.89</td>\n",
       "      <td>10.22</td>\n",
       "      <td>1.00</td>\n",
       "      <td>NaN</td>\n",
       "      <td>NaN</td>\n",
       "      <td>NaN</td>\n",
       "    </tr>\n",
       "  </tbody>\n",
       "</table>\n",
       "</div>"
      ],
      "text/plain": [
       "                       name platform  year_of_release         genre  na_sales  \\\n",
       "0                wii sports      wii           2006.0        sports     41.36   \n",
       "1         super mario bros.      nes           1985.0      platform     29.08   \n",
       "2            mario kart wii      wii           2008.0        racing     15.68   \n",
       "3         wii sports resort      wii           2009.0        sports     15.61   \n",
       "4  pokemon red/pokemon blue       gb           1996.0  role-playing     11.27   \n",
       "\n",
       "   eu_sales  jp_sales  other_sales  critic_score  user_score rating  \n",
       "0     28.96      3.77         8.45          76.0         8.0      E  \n",
       "1      3.58      6.81         0.77           NaN         NaN    NaN  \n",
       "2     12.76      3.79         3.29          82.0         8.3      E  \n",
       "3     10.93      3.28         2.95          80.0         8.0      E  \n",
       "4      8.89     10.22         1.00           NaN         NaN    NaN  "
      ]
     },
     "execution_count": 10,
     "metadata": {},
     "output_type": "execute_result"
    }
   ],
   "source": [
    "data.head()"
   ]
  },
  {
   "cell_type": "code",
   "execution_count": 11,
   "id": "d00846ad",
   "metadata": {
    "scrolled": true
   },
   "outputs": [
    {
     "name": "stdout",
     "output_type": "stream",
     "text": [
      "<class 'pandas.core.frame.DataFrame'>\n",
      "RangeIndex: 16715 entries, 0 to 16714\n",
      "Data columns (total 11 columns):\n",
      " #   Column           Non-Null Count  Dtype  \n",
      "---  ------           --------------  -----  \n",
      " 0   name             16713 non-null  object \n",
      " 1   platform         16715 non-null  object \n",
      " 2   year_of_release  16446 non-null  float64\n",
      " 3   genre            16713 non-null  object \n",
      " 4   na_sales         16715 non-null  float64\n",
      " 5   eu_sales         16715 non-null  float64\n",
      " 6   jp_sales         16715 non-null  float64\n",
      " 7   other_sales      16715 non-null  float64\n",
      " 8   critic_score     8137 non-null   float64\n",
      " 9   user_score       7590 non-null   float64\n",
      " 10  rating           9949 non-null   object \n",
      "dtypes: float64(7), object(4)\n",
      "memory usage: 1.4+ MB\n"
     ]
    }
   ],
   "source": [
    "data.info()"
   ]
  },
  {
   "cell_type": "code",
   "execution_count": 12,
   "id": "7c0f6a6f",
   "metadata": {},
   "outputs": [],
   "source": [
    "#Summary of revenues by region\n",
    "data['total_sales'] = data[['na_sales','eu_sales','jp_sales', 'other_sales']].sum(axis = 1)"
   ]
  },
  {
   "cell_type": "markdown",
   "id": "138dc7ae",
   "metadata": {},
   "source": [
    "Need to fill data gaps. The gaps are in the columns name, year_of_release, genre, critic_score, user_score, rating."
   ]
  },
  {
   "cell_type": "code",
   "execution_count": 13,
   "id": "0cfe72b0",
   "metadata": {},
   "outputs": [
    {
     "data": {
      "text/html": [
       "<div>\n",
       "<style scoped>\n",
       "    .dataframe tbody tr th:only-of-type {\n",
       "        vertical-align: middle;\n",
       "    }\n",
       "\n",
       "    .dataframe tbody tr th {\n",
       "        vertical-align: top;\n",
       "    }\n",
       "\n",
       "    .dataframe thead th {\n",
       "        text-align: right;\n",
       "    }\n",
       "</style>\n",
       "<table border=\"1\" class=\"dataframe\">\n",
       "  <thead>\n",
       "    <tr style=\"text-align: right;\">\n",
       "      <th></th>\n",
       "      <th>names</th>\n",
       "      <th>nulls</th>\n",
       "      <th>nulls,%</th>\n",
       "    </tr>\n",
       "  </thead>\n",
       "  <tbody>\n",
       "    <tr>\n",
       "      <th>0</th>\n",
       "      <td>name</td>\n",
       "      <td>2</td>\n",
       "      <td>0.01</td>\n",
       "    </tr>\n",
       "    <tr>\n",
       "      <th>1</th>\n",
       "      <td>platform</td>\n",
       "      <td>0</td>\n",
       "      <td>0.00</td>\n",
       "    </tr>\n",
       "    <tr>\n",
       "      <th>2</th>\n",
       "      <td>year_of_release</td>\n",
       "      <td>269</td>\n",
       "      <td>1.61</td>\n",
       "    </tr>\n",
       "    <tr>\n",
       "      <th>3</th>\n",
       "      <td>genre</td>\n",
       "      <td>2</td>\n",
       "      <td>0.01</td>\n",
       "    </tr>\n",
       "    <tr>\n",
       "      <th>4</th>\n",
       "      <td>na_sales</td>\n",
       "      <td>0</td>\n",
       "      <td>0.00</td>\n",
       "    </tr>\n",
       "    <tr>\n",
       "      <th>5</th>\n",
       "      <td>eu_sales</td>\n",
       "      <td>0</td>\n",
       "      <td>0.00</td>\n",
       "    </tr>\n",
       "    <tr>\n",
       "      <th>6</th>\n",
       "      <td>jp_sales</td>\n",
       "      <td>0</td>\n",
       "      <td>0.00</td>\n",
       "    </tr>\n",
       "    <tr>\n",
       "      <th>7</th>\n",
       "      <td>other_sales</td>\n",
       "      <td>0</td>\n",
       "      <td>0.00</td>\n",
       "    </tr>\n",
       "    <tr>\n",
       "      <th>8</th>\n",
       "      <td>critic_score</td>\n",
       "      <td>8578</td>\n",
       "      <td>51.32</td>\n",
       "    </tr>\n",
       "    <tr>\n",
       "      <th>9</th>\n",
       "      <td>user_score</td>\n",
       "      <td>9125</td>\n",
       "      <td>54.59</td>\n",
       "    </tr>\n",
       "    <tr>\n",
       "      <th>10</th>\n",
       "      <td>rating</td>\n",
       "      <td>6766</td>\n",
       "      <td>40.48</td>\n",
       "    </tr>\n",
       "    <tr>\n",
       "      <th>11</th>\n",
       "      <td>total_sales</td>\n",
       "      <td>0</td>\n",
       "      <td>0.00</td>\n",
       "    </tr>\n",
       "  </tbody>\n",
       "</table>\n",
       "</div>"
      ],
      "text/plain": [
       "              names  nulls  nulls,%\n",
       "0              name      2     0.01\n",
       "1          platform      0     0.00\n",
       "2   year_of_release    269     1.61\n",
       "3             genre      2     0.01\n",
       "4          na_sales      0     0.00\n",
       "5          eu_sales      0     0.00\n",
       "6          jp_sales      0     0.00\n",
       "7       other_sales      0     0.00\n",
       "8      critic_score   8578    51.32\n",
       "9        user_score   9125    54.59\n",
       "10           rating   6766    40.48\n",
       "11      total_sales      0     0.00"
      ]
     },
     "metadata": {},
     "output_type": "display_data"
    }
   ],
   "source": [
    "#data gaps\n",
    "nulls = pd.DataFrame(columns=['names'], data=data.columns)\n",
    "nulls['nulls'] = data.isna().sum().values\n",
    "nulls['nulls,%'] = data.isna().sum().values * 100/data.shape[0]\n",
    "nulls['nulls,%']= round(nulls['nulls,%'], 2)\n",
    "display(nulls)"
   ]
  },
  {
   "cell_type": "code",
   "execution_count": 14,
   "id": "60927efa",
   "metadata": {},
   "outputs": [
    {
     "data": {
      "text/html": [
       "<div>\n",
       "<style scoped>\n",
       "    .dataframe tbody tr th:only-of-type {\n",
       "        vertical-align: middle;\n",
       "    }\n",
       "\n",
       "    .dataframe tbody tr th {\n",
       "        vertical-align: top;\n",
       "    }\n",
       "\n",
       "    .dataframe thead th {\n",
       "        text-align: right;\n",
       "    }\n",
       "</style>\n",
       "<table border=\"1\" class=\"dataframe\">\n",
       "  <thead>\n",
       "    <tr style=\"text-align: right;\">\n",
       "      <th></th>\n",
       "      <th>name</th>\n",
       "      <th>platform</th>\n",
       "      <th>year_of_release</th>\n",
       "      <th>genre</th>\n",
       "      <th>na_sales</th>\n",
       "      <th>eu_sales</th>\n",
       "      <th>jp_sales</th>\n",
       "      <th>other_sales</th>\n",
       "      <th>critic_score</th>\n",
       "      <th>user_score</th>\n",
       "      <th>rating</th>\n",
       "      <th>total_sales</th>\n",
       "    </tr>\n",
       "  </thead>\n",
       "  <tbody>\n",
       "    <tr>\n",
       "      <th>659</th>\n",
       "      <td>NaN</td>\n",
       "      <td>gen</td>\n",
       "      <td>1993.0</td>\n",
       "      <td>NaN</td>\n",
       "      <td>1.78</td>\n",
       "      <td>0.53</td>\n",
       "      <td>0.00</td>\n",
       "      <td>0.08</td>\n",
       "      <td>NaN</td>\n",
       "      <td>NaN</td>\n",
       "      <td>NaN</td>\n",
       "      <td>2.39</td>\n",
       "    </tr>\n",
       "    <tr>\n",
       "      <th>14244</th>\n",
       "      <td>NaN</td>\n",
       "      <td>gen</td>\n",
       "      <td>1993.0</td>\n",
       "      <td>NaN</td>\n",
       "      <td>0.00</td>\n",
       "      <td>0.00</td>\n",
       "      <td>0.03</td>\n",
       "      <td>0.00</td>\n",
       "      <td>NaN</td>\n",
       "      <td>NaN</td>\n",
       "      <td>NaN</td>\n",
       "      <td>0.03</td>\n",
       "    </tr>\n",
       "  </tbody>\n",
       "</table>\n",
       "</div>"
      ],
      "text/plain": [
       "      name platform  year_of_release genre  na_sales  eu_sales  jp_sales  \\\n",
       "659    NaN      gen           1993.0   NaN      1.78      0.53      0.00   \n",
       "14244  NaN      gen           1993.0   NaN      0.00      0.00      0.03   \n",
       "\n",
       "       other_sales  critic_score  user_score rating  total_sales  \n",
       "659           0.08           NaN         NaN    NaN         2.39  \n",
       "14244         0.00           NaN         NaN    NaN         0.03  "
      ]
     },
     "execution_count": 14,
     "metadata": {},
     "output_type": "execute_result"
    }
   ],
   "source": [
    "#NAME:the proportion of missing data is less than 1%. Should delete this rows from a dataset.\n",
    "#GENRE: missimg data are in the same rows\n",
    "data[data['name'].isna()]"
   ]
  },
  {
   "cell_type": "code",
   "execution_count": 15,
   "id": "4b5fe8a1",
   "metadata": {},
   "outputs": [],
   "source": [
    "data = data.query('index != [659,14244]')"
   ]
  },
  {
   "cell_type": "code",
   "execution_count": 16,
   "id": "9c8ec79f",
   "metadata": {},
   "outputs": [
    {
     "data": {
      "text/plain": [
       "(269, 12)"
      ]
     },
     "execution_count": 16,
     "metadata": {},
     "output_type": "execute_result"
    }
   ],
   "source": [
    "#YEAR_OF_RELEASE\n",
    "#enriching the data in the year_of_release column\n",
    "data[data['year_of_release'].isna()].shape"
   ]
  },
  {
   "cell_type": "code",
   "execution_count": 17,
   "id": "d96d37b3",
   "metadata": {},
   "outputs": [
    {
     "data": {
      "text/plain": [
       "array(['ps2', 'wii', '2600', 'x360', 'gba', 'pc', 'ps3', 'ps', 'psp',\n",
       "       'xb', 'gb', 'ds', 'gc', '3ds', 'n64', 'psv'], dtype=object)"
      ]
     },
     "execution_count": 17,
     "metadata": {},
     "output_type": "execute_result"
    }
   ],
   "source": [
    "#explore the missing data\n",
    "data[data['year_of_release'].isna()]['platform'].unique()"
   ]
  },
  {
   "cell_type": "markdown",
   "id": "c6663454",
   "metadata": {},
   "source": [
    "The support of the most platforms has been discontinued. \n",
    "\n",
    "We should fill the gaps for the platforms that were actual in 2016. They are pc, ps3, 3ds, x360 and psv."
   ]
  },
  {
   "cell_type": "code",
   "execution_count": 18,
   "id": "4d1bf791",
   "metadata": {},
   "outputs": [],
   "source": [
    "#upload data\n",
    "new_data = data[(data['year_of_release'].isna()) & (data['platform'].isin(['pc', 'ps3', '3ds', 'x360', 'psv']))]\\\n",
    "                                                    [['name','platform','year_of_release']]"
   ]
  },
  {
   "cell_type": "code",
   "execution_count": 19,
   "id": "60126a1d",
   "metadata": {},
   "outputs": [],
   "source": [
    "new_data.to_csv('C:\\\\Users\\\\nolga\\\\Desktop\\\\new_data.csv')"
   ]
  },
  {
   "cell_type": "code",
   "execution_count": 20,
   "id": "5b36b05b",
   "metadata": {},
   "outputs": [],
   "source": [
    "#load the enriched data\n",
    "url = 'https://raw.githubusercontent.com/NegOlga/Project_Video_Games/main/new_data.xlsx'\n",
    "new_data = pd.read_excel(url, index_col=0)"
   ]
  },
  {
   "cell_type": "code",
   "execution_count": 21,
   "id": "afcbe5e5",
   "metadata": {},
   "outputs": [
    {
     "data": {
      "text/html": [
       "<div>\n",
       "<style scoped>\n",
       "    .dataframe tbody tr th:only-of-type {\n",
       "        vertical-align: middle;\n",
       "    }\n",
       "\n",
       "    .dataframe tbody tr th {\n",
       "        vertical-align: top;\n",
       "    }\n",
       "\n",
       "    .dataframe thead th {\n",
       "        text-align: right;\n",
       "    }\n",
       "</style>\n",
       "<table border=\"1\" class=\"dataframe\">\n",
       "  <thead>\n",
       "    <tr style=\"text-align: right;\">\n",
       "      <th></th>\n",
       "      <th>name</th>\n",
       "      <th>platform</th>\n",
       "      <th>year_of_release</th>\n",
       "    </tr>\n",
       "  </thead>\n",
       "  <tbody>\n",
       "    <tr>\n",
       "      <th>16293</th>\n",
       "      <td>akb1/48: idol to guam de koishitara...</td>\n",
       "      <td>x360</td>\n",
       "      <td>2011</td>\n",
       "    </tr>\n",
       "    <tr>\n",
       "      <th>9485</th>\n",
       "      <td>street fighter iv</td>\n",
       "      <td>pc</td>\n",
       "      <td>2009</td>\n",
       "    </tr>\n",
       "    <tr>\n",
       "      <th>16348</th>\n",
       "      <td>agarest senki: re-appearance</td>\n",
       "      <td>ps3</td>\n",
       "      <td>2009</td>\n",
       "    </tr>\n",
       "    <tr>\n",
       "      <th>8023</th>\n",
       "      <td>star trek: legacy</td>\n",
       "      <td>x360</td>\n",
       "      <td>2006</td>\n",
       "    </tr>\n",
       "    <tr>\n",
       "      <th>6861</th>\n",
       "      <td>singularity</td>\n",
       "      <td>ps3</td>\n",
       "      <td>2010</td>\n",
       "    </tr>\n",
       "  </tbody>\n",
       "</table>\n",
       "</div>"
      ],
      "text/plain": [
       "                                         name platform  year_of_release\n",
       "16293  akb1/48: idol to guam de koishitara...     x360             2011\n",
       "9485                        street fighter iv       pc             2009\n",
       "16348            agarest senki: re-appearance      ps3             2009\n",
       "8023                        star trek: legacy     x360             2006\n",
       "6861                              singularity      ps3             2010"
      ]
     },
     "execution_count": 21,
     "metadata": {},
     "output_type": "execute_result"
    }
   ],
   "source": [
    "new_data.head()"
   ]
  },
  {
   "cell_type": "code",
   "execution_count": 22,
   "id": "a2bc902e",
   "metadata": {},
   "outputs": [
    {
     "data": {
      "text/html": [
       "<div>\n",
       "<style scoped>\n",
       "    .dataframe tbody tr th:only-of-type {\n",
       "        vertical-align: middle;\n",
       "    }\n",
       "\n",
       "    .dataframe tbody tr th {\n",
       "        vertical-align: top;\n",
       "    }\n",
       "\n",
       "    .dataframe thead th {\n",
       "        text-align: right;\n",
       "    }\n",
       "</style>\n",
       "<table border=\"1\" class=\"dataframe\">\n",
       "  <thead>\n",
       "    <tr style=\"text-align: right;\">\n",
       "      <th></th>\n",
       "      <th>name</th>\n",
       "      <th>platform</th>\n",
       "      <th>year_of_release_x</th>\n",
       "      <th>genre</th>\n",
       "      <th>na_sales</th>\n",
       "      <th>eu_sales</th>\n",
       "      <th>jp_sales</th>\n",
       "      <th>other_sales</th>\n",
       "      <th>critic_score</th>\n",
       "      <th>user_score</th>\n",
       "      <th>rating</th>\n",
       "      <th>total_sales</th>\n",
       "      <th>year_of_release_y</th>\n",
       "    </tr>\n",
       "  </thead>\n",
       "  <tbody>\n",
       "    <tr>\n",
       "      <th>0</th>\n",
       "      <td>wii sports</td>\n",
       "      <td>wii</td>\n",
       "      <td>2006.0</td>\n",
       "      <td>sports</td>\n",
       "      <td>41.36</td>\n",
       "      <td>28.96</td>\n",
       "      <td>3.77</td>\n",
       "      <td>8.45</td>\n",
       "      <td>76.0</td>\n",
       "      <td>8.0</td>\n",
       "      <td>E</td>\n",
       "      <td>82.54</td>\n",
       "      <td>NaN</td>\n",
       "    </tr>\n",
       "    <tr>\n",
       "      <th>1</th>\n",
       "      <td>super mario bros.</td>\n",
       "      <td>nes</td>\n",
       "      <td>1985.0</td>\n",
       "      <td>platform</td>\n",
       "      <td>29.08</td>\n",
       "      <td>3.58</td>\n",
       "      <td>6.81</td>\n",
       "      <td>0.77</td>\n",
       "      <td>NaN</td>\n",
       "      <td>NaN</td>\n",
       "      <td>NaN</td>\n",
       "      <td>40.24</td>\n",
       "      <td>NaN</td>\n",
       "    </tr>\n",
       "    <tr>\n",
       "      <th>2</th>\n",
       "      <td>mario kart wii</td>\n",
       "      <td>wii</td>\n",
       "      <td>2008.0</td>\n",
       "      <td>racing</td>\n",
       "      <td>15.68</td>\n",
       "      <td>12.76</td>\n",
       "      <td>3.79</td>\n",
       "      <td>3.29</td>\n",
       "      <td>82.0</td>\n",
       "      <td>8.3</td>\n",
       "      <td>E</td>\n",
       "      <td>35.52</td>\n",
       "      <td>NaN</td>\n",
       "    </tr>\n",
       "    <tr>\n",
       "      <th>3</th>\n",
       "      <td>wii sports resort</td>\n",
       "      <td>wii</td>\n",
       "      <td>2009.0</td>\n",
       "      <td>sports</td>\n",
       "      <td>15.61</td>\n",
       "      <td>10.93</td>\n",
       "      <td>3.28</td>\n",
       "      <td>2.95</td>\n",
       "      <td>80.0</td>\n",
       "      <td>8.0</td>\n",
       "      <td>E</td>\n",
       "      <td>32.77</td>\n",
       "      <td>NaN</td>\n",
       "    </tr>\n",
       "    <tr>\n",
       "      <th>4</th>\n",
       "      <td>pokemon red/pokemon blue</td>\n",
       "      <td>gb</td>\n",
       "      <td>1996.0</td>\n",
       "      <td>role-playing</td>\n",
       "      <td>11.27</td>\n",
       "      <td>8.89</td>\n",
       "      <td>10.22</td>\n",
       "      <td>1.00</td>\n",
       "      <td>NaN</td>\n",
       "      <td>NaN</td>\n",
       "      <td>NaN</td>\n",
       "      <td>31.38</td>\n",
       "      <td>NaN</td>\n",
       "    </tr>\n",
       "  </tbody>\n",
       "</table>\n",
       "</div>"
      ],
      "text/plain": [
       "                       name platform  year_of_release_x         genre  \\\n",
       "0                wii sports      wii             2006.0        sports   \n",
       "1         super mario bros.      nes             1985.0      platform   \n",
       "2            mario kart wii      wii             2008.0        racing   \n",
       "3         wii sports resort      wii             2009.0        sports   \n",
       "4  pokemon red/pokemon blue       gb             1996.0  role-playing   \n",
       "\n",
       "   na_sales  eu_sales  jp_sales  other_sales  critic_score  user_score rating  \\\n",
       "0     41.36     28.96      3.77         8.45          76.0         8.0      E   \n",
       "1     29.08      3.58      6.81         0.77           NaN         NaN    NaN   \n",
       "2     15.68     12.76      3.79         3.29          82.0         8.3      E   \n",
       "3     15.61     10.93      3.28         2.95          80.0         8.0      E   \n",
       "4     11.27      8.89     10.22         1.00           NaN         NaN    NaN   \n",
       "\n",
       "   total_sales  year_of_release_y  \n",
       "0        82.54                NaN  \n",
       "1        40.24                NaN  \n",
       "2        35.52                NaN  \n",
       "3        32.77                NaN  \n",
       "4        31.38                NaN  "
      ]
     },
     "execution_count": 22,
     "metadata": {},
     "output_type": "execute_result"
    }
   ],
   "source": [
    "data = data.merge(new_data, on=['name','platform'], how='left')\n",
    "data.head()"
   ]
  },
  {
   "cell_type": "code",
   "execution_count": 23,
   "id": "05b741e0",
   "metadata": {},
   "outputs": [],
   "source": [
    "#transfer tha data from the column year_of_release_y to the column year_of_release_x\n",
    "def test(x):\n",
    "    if pd.isnull(x[2]):\n",
    "        x[2] = x[-1]\n",
    "    return x\n",
    "\n",
    "data = data.apply(test, axis=1)"
   ]
  },
  {
   "cell_type": "code",
   "execution_count": 24,
   "id": "adf7bb7a",
   "metadata": {},
   "outputs": [],
   "source": [
    "data = data.drop('year_of_release_y', axis=1)"
   ]
  },
  {
   "cell_type": "code",
   "execution_count": 25,
   "id": "15046996",
   "metadata": {},
   "outputs": [],
   "source": [
    "data = data.rename(columns={'year_of_release_x': 'year_of_release'})"
   ]
  },
  {
   "cell_type": "code",
   "execution_count": 26,
   "id": "fc546101",
   "metadata": {},
   "outputs": [
    {
     "name": "stdout",
     "output_type": "stream",
     "text": [
      "<class 'pandas.core.frame.DataFrame'>\n",
      "Int64Index: 16713 entries, 0 to 16712\n",
      "Data columns (total 12 columns):\n",
      " #   Column           Non-Null Count  Dtype  \n",
      "---  ------           --------------  -----  \n",
      " 0   name             16713 non-null  object \n",
      " 1   platform         16713 non-null  object \n",
      " 2   year_of_release  16525 non-null  float64\n",
      " 3   genre            16713 non-null  object \n",
      " 4   na_sales         16713 non-null  float64\n",
      " 5   eu_sales         16713 non-null  float64\n",
      " 6   jp_sales         16713 non-null  float64\n",
      " 7   other_sales      16713 non-null  float64\n",
      " 8   critic_score     8137 non-null   float64\n",
      " 9   user_score       7590 non-null   float64\n",
      " 10  rating           9949 non-null   object \n",
      " 11  total_sales      16713 non-null  float64\n",
      "dtypes: float64(8), object(4)\n",
      "memory usage: 1.7+ MB\n"
     ]
    }
   ],
   "source": [
    "data.info()"
   ]
  },
  {
   "cell_type": "code",
   "execution_count": 27,
   "id": "442008e6",
   "metadata": {},
   "outputs": [],
   "source": [
    "#delete the rows which contain null values in the column year_of_release\n",
    "data = data.loc[~pd.isnull(data['year_of_release'])]"
   ]
  },
  {
   "cell_type": "code",
   "execution_count": 28,
   "id": "4422a1e9",
   "metadata": {},
   "outputs": [],
   "source": [
    "data['year_of_release'] = data['year_of_release'].astype('int')"
   ]
  },
  {
   "cell_type": "markdown",
   "id": "7a6a8ac4",
   "metadata": {},
   "source": [
    "The missing values in the columns critic score and user_score can't be filled on the base of initial dataset."
   ]
  },
  {
   "cell_type": "code",
   "execution_count": 29,
   "id": "c2aa0382",
   "metadata": {},
   "outputs": [
    {
     "data": {
      "text/plain": [
       "array(['E', nan, 'M', 'T', 'E10+', 'K-A', 'AO', 'EC', 'RP'], dtype=object)"
      ]
     },
     "execution_count": 29,
     "metadata": {},
     "output_type": "execute_result"
    }
   ],
   "source": [
    "data['rating'].unique()"
   ]
  },
  {
   "cell_type": "markdown",
   "id": "4616d522",
   "metadata": {},
   "source": [
    "The meaning of the values in the column 'rating':\n",
    "\n",
    "- E - everyone\n",
    "- M - mature 17+\n",
    "- T - teenagers\n",
    "- Е10+ - everyone(10+)\n",
    "- К-А - for everyone, new ver: E\n",
    "- АО - only for adults\n",
    "- ЕС - for kids\n",
    "- RP - rating pending"
   ]
  },
  {
   "cell_type": "code",
   "execution_count": 30,
   "id": "fc6c089a",
   "metadata": {},
   "outputs": [],
   "source": [
    "#fill the gaps with the meaning 'RP'\n",
    "data['rating'] = data['rating'].where(~data['rating'].isna(), 'RP')"
   ]
  },
  {
   "cell_type": "code",
   "execution_count": 31,
   "id": "ad2eaaab",
   "metadata": {},
   "outputs": [],
   "source": [
    "#change 'K-A' on 'Е'\n",
    "data['rating'] = data['rating'].str.replace('K-A', 'E')"
   ]
  },
  {
   "cell_type": "code",
   "execution_count": 32,
   "id": "1666b547",
   "metadata": {},
   "outputs": [
    {
     "data": {
      "text/plain": [
       "array(['E', 'RP', 'M', 'T', 'E10+', 'AO', 'EC'], dtype=object)"
      ]
     },
     "execution_count": 32,
     "metadata": {},
     "output_type": "execute_result"
    }
   ],
   "source": [
    "data['rating'].unique()"
   ]
  },
  {
   "cell_type": "code",
   "execution_count": 33,
   "id": "5d43a0e0",
   "metadata": {},
   "outputs": [],
   "source": [
    "#enlarge the categories\n",
    "def categorize(data):\n",
    "    if data['rating'] == 'E':\n",
    "        return 'no limits'\n",
    "    elif data['rating'] == 'EC':\n",
    "        return 'for children'\n",
    "    elif data['rating'] == 'T' or data['rating'] == 'E10+':\n",
    "        return 'for teenagers'\n",
    "    elif data['rating'] == 'M' or data['rating'] == 'AO':\n",
    "        return 'for adults'\n",
    "    elif data['rating'] == 'RP':\n",
    "        return 'rating is absent'"
   ]
  },
  {
   "cell_type": "code",
   "execution_count": 34,
   "id": "6f06c3b5",
   "metadata": {},
   "outputs": [],
   "source": [
    "data['category_of_rating'] = data.apply(categorize, axis=1)"
   ]
  },
  {
   "cell_type": "code",
   "execution_count": 35,
   "id": "84a805ee",
   "metadata": {},
   "outputs": [
    {
     "data": {
      "text/plain": [
       "array(['no limits', 'rating is absent', 'for adults', 'for teenagers',\n",
       "       'for children'], dtype=object)"
      ]
     },
     "execution_count": 35,
     "metadata": {},
     "output_type": "execute_result"
    }
   ],
   "source": [
    "data['category_of_rating'].unique()"
   ]
  },
  {
   "cell_type": "code",
   "execution_count": 36,
   "id": "4732f452",
   "metadata": {},
   "outputs": [
    {
     "data": {
      "text/html": [
       "<div>\n",
       "<style scoped>\n",
       "    .dataframe tbody tr th:only-of-type {\n",
       "        vertical-align: middle;\n",
       "    }\n",
       "\n",
       "    .dataframe tbody tr th {\n",
       "        vertical-align: top;\n",
       "    }\n",
       "\n",
       "    .dataframe thead th {\n",
       "        text-align: right;\n",
       "    }\n",
       "</style>\n",
       "<table border=\"1\" class=\"dataframe\">\n",
       "  <thead>\n",
       "    <tr style=\"text-align: right;\">\n",
       "      <th></th>\n",
       "      <th>name</th>\n",
       "      <th>platform</th>\n",
       "      <th>year_of_release</th>\n",
       "      <th>genre</th>\n",
       "      <th>na_sales</th>\n",
       "      <th>eu_sales</th>\n",
       "      <th>jp_sales</th>\n",
       "      <th>other_sales</th>\n",
       "      <th>critic_score</th>\n",
       "      <th>user_score</th>\n",
       "      <th>rating</th>\n",
       "      <th>total_sales</th>\n",
       "      <th>category_of_rating</th>\n",
       "    </tr>\n",
       "  </thead>\n",
       "  <tbody>\n",
       "    <tr>\n",
       "      <th>16228</th>\n",
       "      <td>madden nfl 13</td>\n",
       "      <td>ps3</td>\n",
       "      <td>2012</td>\n",
       "      <td>sports</td>\n",
       "      <td>0.0</td>\n",
       "      <td>0.01</td>\n",
       "      <td>0.0</td>\n",
       "      <td>0.0</td>\n",
       "      <td>83.0</td>\n",
       "      <td>5.5</td>\n",
       "      <td>E</td>\n",
       "      <td>0.01</td>\n",
       "      <td>no limits</td>\n",
       "    </tr>\n",
       "  </tbody>\n",
       "</table>\n",
       "</div>"
      ],
      "text/plain": [
       "                name platform  year_of_release   genre  na_sales  eu_sales  \\\n",
       "16228  madden nfl 13      ps3             2012  sports       0.0      0.01   \n",
       "\n",
       "       jp_sales  other_sales  critic_score  user_score rating  total_sales  \\\n",
       "16228       0.0          0.0          83.0         5.5      E         0.01   \n",
       "\n",
       "      category_of_rating  \n",
       "16228          no limits  "
      ]
     },
     "execution_count": 36,
     "metadata": {},
     "output_type": "execute_result"
    }
   ],
   "source": [
    "#check the duplicates\n",
    "data[data[['name','platform','year_of_release']].duplicated()]"
   ]
  },
  {
   "cell_type": "code",
   "execution_count": 37,
   "id": "6e1acf88",
   "metadata": {},
   "outputs": [
    {
     "data": {
      "text/html": [
       "<div>\n",
       "<style scoped>\n",
       "    .dataframe tbody tr th:only-of-type {\n",
       "        vertical-align: middle;\n",
       "    }\n",
       "\n",
       "    .dataframe tbody tr th {\n",
       "        vertical-align: top;\n",
       "    }\n",
       "\n",
       "    .dataframe thead th {\n",
       "        text-align: right;\n",
       "    }\n",
       "</style>\n",
       "<table border=\"1\" class=\"dataframe\">\n",
       "  <thead>\n",
       "    <tr style=\"text-align: right;\">\n",
       "      <th></th>\n",
       "      <th>name</th>\n",
       "      <th>platform</th>\n",
       "      <th>year_of_release</th>\n",
       "      <th>genre</th>\n",
       "      <th>na_sales</th>\n",
       "      <th>eu_sales</th>\n",
       "      <th>jp_sales</th>\n",
       "      <th>other_sales</th>\n",
       "      <th>critic_score</th>\n",
       "      <th>user_score</th>\n",
       "      <th>rating</th>\n",
       "      <th>total_sales</th>\n",
       "      <th>category_of_rating</th>\n",
       "    </tr>\n",
       "  </thead>\n",
       "  <tbody>\n",
       "    <tr>\n",
       "      <th>604</th>\n",
       "      <td>madden nfl 13</td>\n",
       "      <td>ps3</td>\n",
       "      <td>2012</td>\n",
       "      <td>sports</td>\n",
       "      <td>2.11</td>\n",
       "      <td>0.22</td>\n",
       "      <td>0.0</td>\n",
       "      <td>0.23</td>\n",
       "      <td>83.0</td>\n",
       "      <td>5.5</td>\n",
       "      <td>E</td>\n",
       "      <td>2.56</td>\n",
       "      <td>no limits</td>\n",
       "    </tr>\n",
       "    <tr>\n",
       "      <th>16228</th>\n",
       "      <td>madden nfl 13</td>\n",
       "      <td>ps3</td>\n",
       "      <td>2012</td>\n",
       "      <td>sports</td>\n",
       "      <td>0.00</td>\n",
       "      <td>0.01</td>\n",
       "      <td>0.0</td>\n",
       "      <td>0.00</td>\n",
       "      <td>83.0</td>\n",
       "      <td>5.5</td>\n",
       "      <td>E</td>\n",
       "      <td>0.01</td>\n",
       "      <td>no limits</td>\n",
       "    </tr>\n",
       "  </tbody>\n",
       "</table>\n",
       "</div>"
      ],
      "text/plain": [
       "                name platform  year_of_release   genre  na_sales  eu_sales  \\\n",
       "604    madden nfl 13      ps3             2012  sports      2.11      0.22   \n",
       "16228  madden nfl 13      ps3             2012  sports      0.00      0.01   \n",
       "\n",
       "       jp_sales  other_sales  critic_score  user_score rating  total_sales  \\\n",
       "604         0.0         0.23          83.0         5.5      E         2.56   \n",
       "16228       0.0         0.00          83.0         5.5      E         0.01   \n",
       "\n",
       "      category_of_rating  \n",
       "604            no limits  \n",
       "16228          no limits  "
      ]
     },
     "execution_count": 37,
     "metadata": {},
     "output_type": "execute_result"
    }
   ],
   "source": [
    "data[(data['name'] == 'madden nfl 13') & (data['platform'] == 'ps3')]"
   ]
  },
  {
   "cell_type": "code",
   "execution_count": 38,
   "id": "603af918",
   "metadata": {},
   "outputs": [],
   "source": [
    "#drop duplicates\n",
    "data = data.query(\"index not in [16228]\")"
   ]
  },
  {
   "cell_type": "code",
   "execution_count": 39,
   "id": "0bd3e1a9",
   "metadata": {},
   "outputs": [
    {
     "name": "stdout",
     "output_type": "stream",
     "text": [
      "The number of rows after data preparing: 16524\n",
      "The percentage of data which remained after data preparing: 98.86\n"
     ]
    }
   ],
   "source": [
    "print(f'The number of rows after data preparing: {data.shape[0]}')\n",
    "#initial count of rows - 16 715 rows, now it's 16 524\n",
    "print(f'The percentage of data which remained after data preparing: {round(16524/16715*100, 2)}')"
   ]
  },
  {
   "cell_type": "markdown",
   "id": "03d1c42a",
   "metadata": {},
   "source": [
    "**Conclusion:** we deleted the duplicates and corrected the missing data. Data loss was less than 5%."
   ]
  },
  {
   "cell_type": "code",
   "execution_count": 40,
   "id": "0f47691f",
   "metadata": {},
   "outputs": [
    {
     "name": "stdout",
     "output_type": "stream",
     "text": [
      "<class 'pandas.core.frame.DataFrame'>\n",
      "Int64Index: 16524 entries, 0 to 16712\n",
      "Data columns (total 13 columns):\n",
      " #   Column              Non-Null Count  Dtype  \n",
      "---  ------              --------------  -----  \n",
      " 0   name                16524 non-null  object \n",
      " 1   platform            16524 non-null  object \n",
      " 2   year_of_release     16524 non-null  int32  \n",
      " 3   genre               16524 non-null  object \n",
      " 4   na_sales            16524 non-null  float64\n",
      " 5   eu_sales            16524 non-null  float64\n",
      " 6   jp_sales            16524 non-null  float64\n",
      " 7   other_sales         16524 non-null  float64\n",
      " 8   critic_score        8039 non-null   float64\n",
      " 9   user_score          7518 non-null   float64\n",
      " 10  rating              16524 non-null  object \n",
      " 11  total_sales         16524 non-null  float64\n",
      " 12  category_of_rating  16524 non-null  object \n",
      "dtypes: float64(7), int32(1), object(5)\n",
      "memory usage: 1.7+ MB\n"
     ]
    }
   ],
   "source": [
    "# check\n",
    "data.info()"
   ]
  },
  {
   "cell_type": "markdown",
   "id": "ab6edee2",
   "metadata": {},
   "source": [
    "<a class=\"anchor\" id=\"Step3\"></a>\n",
    "## 3. Explanatory Data Analysis"
   ]
  },
  {
   "cell_type": "markdown",
   "id": "9445fd8b",
   "metadata": {},
   "source": [
    "<a class=\"anchor\" id=\"Step3.1\"></a>\n",
    "### 3.1. The dependence of the number of games on the year of release"
   ]
  },
  {
   "cell_type": "code",
   "execution_count": 41,
   "id": "c2e49b98",
   "metadata": {},
   "outputs": [],
   "source": [
    "#number of games by year_of_release\n",
    "games_per_year = data.pivot_table(index='year_of_release', values='name', aggfunc='count').reset_index()\n",
    "games_per_year.columns = ['year_of_release', 'games_count']"
   ]
  },
  {
   "cell_type": "code",
   "execution_count": 42,
   "id": "ebdd3959",
   "metadata": {},
   "outputs": [
    {
     "data": {
      "image/png": "[encoded data removed]",
      "text/plain": [
       "<Figure size 1080x576 with 1 Axes>"
      ]
     },
     "metadata": {
      "needs_background": "light"
     },
     "output_type": "display_data"
    }
   ],
   "source": [
    "games_per_year.plot(x='year_of_release', y='games_count', kind='bar', figsize=(15,8), grid=True,\\\n",
    "                   title='The count of the number of games by year of release')\n",
    "\n",
    "plt.xlabel('year of release')\n",
    "plt.ylabel('the number of games')\n",
    "plt.show()"
   ]
  },
  {
   "cell_type": "code",
   "execution_count": 43,
   "id": "4a8adc57",
   "metadata": {},
   "outputs": [
    {
     "data": {
      "image/png": "[encoded data removed]",
      "text/plain": [
       "<Figure size 432x288 with 1 Axes>"
      ]
     },
     "metadata": {
      "needs_background": "light"
     },
     "output_type": "display_data"
    }
   ],
   "source": [
    "games_per_year.boxplot('games_count')\n",
    "plt.show()"
   ]
  },
  {
   "cell_type": "markdown",
   "id": "d0e79bb7",
   "metadata": {},
   "source": [
    "Conclusion: The peak number of released games was in 2008. We've seen a decrease in the number of released games since 2009."
   ]
  },
  {
   "cell_type": "markdown",
   "id": "b4150e19",
   "metadata": {},
   "source": [
    "<a class=\"anchor\" id=\"Step3.2\"></a>\n",
    "### 3.2. The dependence of the platform on the year of release"
   ]
  },
  {
   "cell_type": "code",
   "execution_count": 44,
   "id": "4712dba2",
   "metadata": {},
   "outputs": [
    {
     "name": "stdout",
     "output_type": "stream",
     "text": [
      "Top-10 of platforms: ['ps2', 'x360', 'ps3', 'wii', 'ds', 'ps', 'ps4', 'gba', 'psp', 'pc']\n"
     ]
    },
    {
     "data": {
      "text/html": [
       "<div>\n",
       "<style scoped>\n",
       "    .dataframe tbody tr th:only-of-type {\n",
       "        vertical-align: middle;\n",
       "    }\n",
       "\n",
       "    .dataframe tbody tr th {\n",
       "        vertical-align: top;\n",
       "    }\n",
       "\n",
       "    .dataframe thead th {\n",
       "        text-align: right;\n",
       "    }\n",
       "</style>\n",
       "<table border=\"1\" class=\"dataframe\">\n",
       "  <thead>\n",
       "    <tr style=\"text-align: right;\">\n",
       "      <th></th>\n",
       "      <th>platform</th>\n",
       "      <th>total_sales</th>\n",
       "    </tr>\n",
       "  </thead>\n",
       "  <tbody>\n",
       "    <tr>\n",
       "      <th>16</th>\n",
       "      <td>ps2</td>\n",
       "      <td>1233.56</td>\n",
       "    </tr>\n",
       "    <tr>\n",
       "      <th>28</th>\n",
       "      <td>x360</td>\n",
       "      <td>971.42</td>\n",
       "    </tr>\n",
       "    <tr>\n",
       "      <th>17</th>\n",
       "      <td>ps3</td>\n",
       "      <td>939.64</td>\n",
       "    </tr>\n",
       "    <tr>\n",
       "      <th>25</th>\n",
       "      <td>wii</td>\n",
       "      <td>891.18</td>\n",
       "    </tr>\n",
       "    <tr>\n",
       "      <th>4</th>\n",
       "      <td>ds</td>\n",
       "      <td>802.78</td>\n",
       "    </tr>\n",
       "  </tbody>\n",
       "</table>\n",
       "</div>"
      ],
      "text/plain": [
       "   platform  total_sales\n",
       "16      ps2      1233.56\n",
       "28     x360       971.42\n",
       "17      ps3       939.64\n",
       "25      wii       891.18\n",
       "4        ds       802.78"
      ]
     },
     "execution_count": 44,
     "metadata": {},
     "output_type": "execute_result"
    }
   ],
   "source": [
    "#top 10\n",
    "data_games_top_platform = data.pivot_table(\n",
    "    index='platform',\n",
    "    values='total_sales',\n",
    "    aggfunc='sum'). reset_index()\n",
    "\n",
    "data_games_top_platform = data_games_top_platform.sort_values(by='total_sales', ascending=False).head(10)\n",
    "top_platforms_list = list(data_games_top_platform['platform'])\n",
    "print('Top-10 of platforms:', top_platforms_list)\n",
    "data_games_top_platform.head(5)"
   ]
  },
  {
   "cell_type": "code",
   "execution_count": 45,
   "id": "f037233e",
   "metadata": {},
   "outputs": [
    {
     "data": {
      "text/html": [
       "<div>\n",
       "<style scoped>\n",
       "    .dataframe tbody tr th:only-of-type {\n",
       "        vertical-align: middle;\n",
       "    }\n",
       "\n",
       "    .dataframe tbody tr th {\n",
       "        vertical-align: top;\n",
       "    }\n",
       "\n",
       "    .dataframe thead th {\n",
       "        text-align: right;\n",
       "    }\n",
       "</style>\n",
       "<table border=\"1\" class=\"dataframe\">\n",
       "  <thead>\n",
       "    <tr style=\"text-align: right;\">\n",
       "      <th></th>\n",
       "      <th>platform</th>\n",
       "      <th>year_of_release</th>\n",
       "      <th>total_sales</th>\n",
       "    </tr>\n",
       "  </thead>\n",
       "  <tbody>\n",
       "    <tr>\n",
       "      <th>0</th>\n",
       "      <td>2600</td>\n",
       "      <td>1980</td>\n",
       "      <td>11.38</td>\n",
       "    </tr>\n",
       "    <tr>\n",
       "      <th>1</th>\n",
       "      <td>2600</td>\n",
       "      <td>1981</td>\n",
       "      <td>35.68</td>\n",
       "    </tr>\n",
       "    <tr>\n",
       "      <th>2</th>\n",
       "      <td>2600</td>\n",
       "      <td>1982</td>\n",
       "      <td>28.88</td>\n",
       "    </tr>\n",
       "    <tr>\n",
       "      <th>3</th>\n",
       "      <td>2600</td>\n",
       "      <td>1983</td>\n",
       "      <td>5.84</td>\n",
       "    </tr>\n",
       "    <tr>\n",
       "      <th>4</th>\n",
       "      <td>2600</td>\n",
       "      <td>1984</td>\n",
       "      <td>0.27</td>\n",
       "    </tr>\n",
       "  </tbody>\n",
       "</table>\n",
       "</div>"
      ],
      "text/plain": [
       "  platform  year_of_release  total_sales\n",
       "0     2600             1980        11.38\n",
       "1     2600             1981        35.68\n",
       "2     2600             1982        28.88\n",
       "3     2600             1983         5.84\n",
       "4     2600             1984         0.27"
      ]
     },
     "execution_count": 45,
     "metadata": {},
     "output_type": "execute_result"
    }
   ],
   "source": [
    "#distribution of the platform sales by years\n",
    "data_platform_per_year = data.pivot_table(\n",
    "    index = ['platform','year_of_release'],\n",
    "    values = 'total_sales',\n",
    "    aggfunc = 'sum').reset_index()\n",
    "data_platform_per_year.head()"
   ]
  },
  {
   "cell_type": "code",
   "execution_count": 46,
   "id": "00839caf",
   "metadata": {},
   "outputs": [],
   "source": [
    "data_platform_per_year = data_platform_per_year.query('platform in @top_platforms_list')"
   ]
  },
  {
   "cell_type": "code",
   "execution_count": 47,
   "id": "10d80c4a",
   "metadata": {},
   "outputs": [],
   "source": [
    "grouped_table_platform = data_platform_per_year.groupby('platform').agg({'year_of_release':['min', 'max']})\n",
    "grouped_table_platform['time'] = grouped_table_platform['year_of_release']['max'] -\\\n",
    "grouped_table_platform['year_of_release']['min']"
   ]
  },
  {
   "cell_type": "code",
   "execution_count": 48,
   "id": "59c53e5b",
   "metadata": {},
   "outputs": [
    {
     "name": "stdout",
     "output_type": "stream",
     "text": [
      "The lifetime of platform is 10 years in average\n"
     ]
    }
   ],
   "source": [
    "print('The lifetime of platform is', round(grouped_table_platform['time'].median()), 'years in average')"
   ]
  },
  {
   "cell_type": "code",
   "execution_count": 49,
   "id": "08219722",
   "metadata": {},
   "outputs": [
    {
     "data": {
      "text/plain": [
       "array(['ds', 'gba', 'pc', 'ps', 'ps2', 'ps3', 'ps4', 'psp', 'wii', 'x360'],\n",
       "      dtype=object)"
      ]
     },
     "execution_count": 49,
     "metadata": {},
     "output_type": "execute_result"
    }
   ],
   "source": [
    "data_platform_per_year['platform'].unique()"
   ]
  },
  {
   "cell_type": "code",
   "execution_count": 50,
   "id": "a4ce8125",
   "metadata": {},
   "outputs": [],
   "source": [
    "def plot_platform_life(platform_name=[]):\n",
    "    plt.plot(round(data_platform_per_year.loc[data_platform_per_year['platform'] == platform_name, \"year_of_release\"]),\\\n",
    "         data_platform_per_year.loc[data_platform_per_year['platform'] == platform_name, \"total_sales\"] ,linewidth=3,\\\n",
    "        label= f'{platform_name}')"
   ]
  },
  {
   "cell_type": "code",
   "execution_count": 51,
   "id": "9c3a19e6",
   "metadata": {},
   "outputs": [
    {
     "data": {
      "image/png": "[encoded data removed]",
      "text/plain": [
       "<Figure size 1040x640 with 1 Axes>"
      ]
     },
     "metadata": {
      "needs_background": "light"
     },
     "output_type": "display_data"
    }
   ],
   "source": [
    "plt.figure(figsize=(13,8), dpi=80)\n",
    "\n",
    "plot_platform_life(platform_name='ps2')\n",
    "plot_platform_life(platform_name='x360')\n",
    "plot_platform_life(platform_name='wii')\n",
    "plot_platform_life(platform_name='ds')\n",
    "plot_platform_life(platform_name='ps3')\n",
    "plot_platform_life(platform_name='psp')\n",
    "plot_platform_life(platform_name='pc')\n",
    "\n",
    "plt.xlabel('Year')\n",
    "plt.xlim(1997,2016)\n",
    "plt.ylabel('The number of sales by platform')\n",
    "\n",
    "plt.title('The lifetime of platforms')\n",
    "plt.legend()\n",
    "plt.show()\n"
   ]
  },
  {
   "cell_type": "markdown",
   "id": "9eba8622",
   "metadata": {},
   "source": [
    "The number of platforms increased since 2004. The new platforms appears almost every 2 years."
   ]
  },
  {
   "cell_type": "markdown",
   "id": "b8fd15de",
   "metadata": {},
   "source": [
    "<a class=\"anchor\" id=\"Step3.3\"></a>\n",
    "### 3.3. Perspective platforms"
   ]
  },
  {
   "cell_type": "markdown",
   "id": "31f3c4b6",
   "metadata": {},
   "source": [
    "To detect the most perspective platforms we make the restrictions on the dataset. To find out the most up-to-date trends we take into account the datas for the last 3 years - 2014, 2015, 2016."
   ]
  },
  {
   "cell_type": "code",
   "execution_count": 52,
   "id": "9c2d7402",
   "metadata": {},
   "outputs": [],
   "source": [
    "data_games_after_2014 = data[data['year_of_release'] >=2014]"
   ]
  },
  {
   "cell_type": "code",
   "execution_count": 53,
   "id": "6b3d45cb",
   "metadata": {},
   "outputs": [
    {
     "data": {
      "text/html": [
       "<div>\n",
       "<style scoped>\n",
       "    .dataframe tbody tr th:only-of-type {\n",
       "        vertical-align: middle;\n",
       "    }\n",
       "\n",
       "    .dataframe tbody tr th {\n",
       "        vertical-align: top;\n",
       "    }\n",
       "\n",
       "    .dataframe thead th {\n",
       "        text-align: right;\n",
       "    }\n",
       "</style>\n",
       "<table border=\"1\" class=\"dataframe\">\n",
       "  <thead>\n",
       "    <tr style=\"text-align: right;\">\n",
       "      <th>year_of_release</th>\n",
       "      <th>2014</th>\n",
       "      <th>2015</th>\n",
       "      <th>2016</th>\n",
       "    </tr>\n",
       "    <tr>\n",
       "      <th>platform</th>\n",
       "      <th></th>\n",
       "      <th></th>\n",
       "      <th></th>\n",
       "    </tr>\n",
       "  </thead>\n",
       "  <tbody>\n",
       "    <tr>\n",
       "      <th>3ds</th>\n",
       "      <td>43.85</td>\n",
       "      <td>27.80</td>\n",
       "      <td>15.14</td>\n",
       "    </tr>\n",
       "    <tr>\n",
       "      <th>pc</th>\n",
       "      <td>13.28</td>\n",
       "      <td>8.53</td>\n",
       "      <td>5.26</td>\n",
       "    </tr>\n",
       "    <tr>\n",
       "      <th>ps3</th>\n",
       "      <td>47.76</td>\n",
       "      <td>16.82</td>\n",
       "      <td>3.60</td>\n",
       "    </tr>\n",
       "    <tr>\n",
       "      <th>ps4</th>\n",
       "      <td>100.00</td>\n",
       "      <td>118.90</td>\n",
       "      <td>69.25</td>\n",
       "    </tr>\n",
       "    <tr>\n",
       "      <th>psp</th>\n",
       "      <td>0.24</td>\n",
       "      <td>0.12</td>\n",
       "      <td>NaN</td>\n",
       "    </tr>\n",
       "    <tr>\n",
       "      <th>psv</th>\n",
       "      <td>11.90</td>\n",
       "      <td>6.25</td>\n",
       "      <td>4.25</td>\n",
       "    </tr>\n",
       "    <tr>\n",
       "      <th>wii</th>\n",
       "      <td>3.75</td>\n",
       "      <td>1.14</td>\n",
       "      <td>0.18</td>\n",
       "    </tr>\n",
       "    <tr>\n",
       "      <th>wiiu</th>\n",
       "      <td>22.03</td>\n",
       "      <td>16.35</td>\n",
       "      <td>4.60</td>\n",
       "    </tr>\n",
       "    <tr>\n",
       "      <th>x360</th>\n",
       "      <td>34.77</td>\n",
       "      <td>11.96</td>\n",
       "      <td>1.52</td>\n",
       "    </tr>\n",
       "    <tr>\n",
       "      <th>xone</th>\n",
       "      <td>54.07</td>\n",
       "      <td>60.14</td>\n",
       "      <td>26.15</td>\n",
       "    </tr>\n",
       "  </tbody>\n",
       "</table>\n",
       "</div>"
      ],
      "text/plain": [
       "year_of_release    2014    2015   2016\n",
       "platform                              \n",
       "3ds               43.85   27.80  15.14\n",
       "pc                13.28    8.53   5.26\n",
       "ps3               47.76   16.82   3.60\n",
       "ps4              100.00  118.90  69.25\n",
       "psp                0.24    0.12    NaN\n",
       "psv               11.90    6.25   4.25\n",
       "wii                3.75    1.14   0.18\n",
       "wiiu              22.03   16.35   4.60\n",
       "x360              34.77   11.96   1.52\n",
       "xone              54.07   60.14  26.15"
      ]
     },
     "execution_count": 53,
     "metadata": {},
     "output_type": "execute_result"
    }
   ],
   "source": [
    "pivot_sales_per_year = data_games_after_2014.pivot_table(\n",
    "    index = 'platform',\n",
    "    columns = 'year_of_release',\n",
    "    values = 'total_sales',\n",
    "    aggfunc = 'sum')\n",
    "pivot_sales_per_year"
   ]
  },
  {
   "cell_type": "code",
   "execution_count": 54,
   "id": "7e799009",
   "metadata": {},
   "outputs": [
    {
     "data": {
      "image/png": "[encoded data removed]",
      "text/plain": [
       "<Figure size 960x800 with 2 Axes>"
      ]
     },
     "metadata": {
      "needs_background": "light"
     },
     "output_type": "display_data"
    }
   ],
   "source": [
    "# heatmap\n",
    "plt.figure(figsize=(12,10), dpi= 80)\n",
    "sns.heatmap(pivot_sales_per_year, cmap='RdYlGn', center=0, annot=True);\n",
    "plt.title('The dependence of sales by platforms on the year');"
   ]
  },
  {
   "cell_type": "markdown",
   "id": "fed0fcff",
   "metadata": {},
   "source": [
    "We make the assumption that the data for 2016 is not complete and unrepresentative.\n",
    "We can make the following conclusions:\n",
    "\n",
    "- Sales grow: PS4, XOne\n",
    "- Sales fall: 3DS, PC, PS3, PSP, PSV, Wii, WiiU, X360"
   ]
  },
  {
   "cell_type": "code",
   "execution_count": 55,
   "id": "b8b8c8bc",
   "metadata": {},
   "outputs": [
    {
     "data": {
      "text/plain": [
       "platform\n",
       "ps4     288.15\n",
       "xone    140.36\n",
       "3ds      86.79\n",
       "ps3      68.18\n",
       "x360     48.25\n",
       "Name: total_sales, dtype: float64"
      ]
     },
     "metadata": {},
     "output_type": "display_data"
    }
   ],
   "source": [
    "#top-5 platforms by sales\n",
    "display(data_games_after_2014.groupby('platform')['total_sales'].sum().sort_values(ascending=False).head(5))"
   ]
  },
  {
   "cell_type": "code",
   "execution_count": 56,
   "id": "34c587c8",
   "metadata": {},
   "outputs": [
    {
     "data": {
      "image/png": "[encoded data removed]",
      "text/plain": [
       "<Figure size 1080x936 with 1 Axes>"
      ]
     },
     "metadata": {
      "needs_background": "light"
     },
     "output_type": "display_data"
    }
   ],
   "source": [
    "plt.figure(figsize=(15,13))\n",
    "sns.boxplot(x='platform', y='total_sales', data=data_games_after_2014)    \n",
    "\n",
    "        \n",
    "plt.title('The distribution of sales by platform', fontsize=22)\n",
    "plt.show()"
   ]
  },
  {
   "cell_type": "code",
   "execution_count": 57,
   "id": "0c410363",
   "metadata": {},
   "outputs": [
    {
     "data": {
      "image/png": "[encoded data removed]",
      "text/plain": [
       "<Figure size 1080x432 with 1 Axes>"
      ]
     },
     "metadata": {
      "needs_background": "light"
     },
     "output_type": "display_data"
    }
   ],
   "source": [
    "#limit outliers\n",
    "plt.figure(figsize=(15,6))\n",
    "sns.boxplot(x='platform', y='total_sales', data=data_games_after_2014)    \n",
    "\n",
    "plt.ylim(0,2)\n",
    "plt.title('The distribution of sales by platform', fontsize=22)\n",
    "plt.show()"
   ]
  },
  {
   "cell_type": "markdown",
   "id": "2c81ac7e",
   "metadata": {},
   "source": [
    "There are many outliers in the data. The reason for this is that some games were popular and have brought the revenue which is above the median revenue of games on the platform. The biggest number of hit games were on the PS4, 3DS and XOne platforms. The median income is the highest for Wii, X360 and XOne."
   ]
  },
  {
   "cell_type": "markdown",
   "id": "5259e794",
   "metadata": {},
   "source": [
    "Conclusion: XOne is a perspective platform that ranks in the top-5 of overall sales, it has a high median revenue and also a lot of hit games. PS4 is also in the top-5 and it has a lot of hit games, but the median revenue per game on the platform is lower than on the XOne and X360. Other platforms in the top-5 decline sales."
   ]
  },
  {
   "cell_type": "markdown",
   "id": "e1637819",
   "metadata": {},
   "source": [
    "<a class=\"anchor\" id=\"Step3.4\"></a>\n",
    "### 3.4. The dependence of total_sales on the user_score and critic_score"
   ]
  },
  {
   "cell_type": "markdown",
   "id": "aae4256c",
   "metadata": {},
   "source": [
    "We explore the correlation on the base of platform XOne."
   ]
  },
  {
   "cell_type": "code",
   "execution_count": 58,
   "id": "0a0bd88a",
   "metadata": {},
   "outputs": [],
   "source": [
    "data_games_xone = data_games_after_2014[data_games_after_2014['platform'] == 'xone']"
   ]
  },
  {
   "cell_type": "code",
   "execution_count": 59,
   "id": "9aa23229",
   "metadata": {},
   "outputs": [
    {
     "data": {
      "text/plain": [
       "-0.07038392806475809"
      ]
     },
     "execution_count": 59,
     "metadata": {},
     "output_type": "execute_result"
    }
   ],
   "source": [
    "#correlation between sales and user_score\n",
    "data_games_after_2014['user_score'][data_games_after_2014['platform'] == 'xone'].\\\n",
    "corr(data_games_after_2014['total_sales'][data_games_after_2014['platform'] == 'xone'])"
   ]
  },
  {
   "cell_type": "code",
   "execution_count": 60,
   "id": "7ff8d52e",
   "metadata": {},
   "outputs": [
    {
     "data": {
      "image/png": "[encoded data removed]",
      "text/plain": [
       "<Figure size 432x360 with 1 Axes>"
      ]
     },
     "metadata": {
      "needs_background": "light"
     },
     "output_type": "display_data"
    }
   ],
   "source": [
    "data_games_xone.plot(x='user_score',y='total_sales', kind='scatter', figsize=(6,5),\\\n",
    "                    title='A scatter plot of correlation between sales and user_score (XOne)');"
   ]
  },
  {
   "cell_type": "code",
   "execution_count": 61,
   "id": "88c6bd79",
   "metadata": {},
   "outputs": [
    {
     "data": {
      "text/plain": [
       "0.42867694370333187"
      ]
     },
     "execution_count": 61,
     "metadata": {},
     "output_type": "execute_result"
    }
   ],
   "source": [
    "#correlation between sales and criric_score\n",
    "data_games_xone['critic_score'].corr(data_games_xone['total_sales'])"
   ]
  },
  {
   "cell_type": "code",
   "execution_count": 62,
   "id": "2d923e4e",
   "metadata": {},
   "outputs": [
    {
     "data": {
      "image/png": "[encoded data removed]",
      "text/plain": [
       "<Figure size 432x360 with 1 Axes>"
      ]
     },
     "metadata": {
      "needs_background": "light"
     },
     "output_type": "display_data"
    }
   ],
   "source": [
    "data_games_xone.plot(x='critic_score',y='total_sales', kind='scatter', figsize=(6,5), \\\n",
    "                    title='A scatter plot of correlation between sales and critic_score (XOne)');"
   ]
  },
  {
   "cell_type": "markdown",
   "id": "062c8d00",
   "metadata": {},
   "source": [
    "Conclusion: for XOne platform:\n",
    "- the correlation between sales and user_score is absent\n",
    "- the correlation between sales and critic_score is average but spurious"
   ]
  },
  {
   "cell_type": "markdown",
   "id": "a16ac2b6",
   "metadata": {},
   "source": [
    "Check the conclusions"
   ]
  },
  {
   "cell_type": "code",
   "execution_count": 63,
   "id": "9fab9f44",
   "metadata": {},
   "outputs": [
    {
     "name": "stdout",
     "output_type": "stream",
     "text": [
      "Correlation between sales and user_score:\n",
      "ps4 -0.04\n",
      "3ds 0.23\n",
      "xone -0.07\n",
      "wiiu 0.41\n",
      "ps3 -0.17\n",
      "x360 -0.14\n",
      "pc -0.08\n",
      "wii 1.0\n",
      "psv -0.17\n",
      "psp nan\n"
     ]
    }
   ],
   "source": [
    "print('Correlation between sales and user_score:')\n",
    "for x in data_games_after_2014['platform'].unique():\n",
    "    print(x, round(data_games_after_2014['user_score'][data_games_after_2014['platform'] == x].corr\\\n",
    "                   (data_games_after_2014['total_sales'][data_games_after_2014['platform'] == x]),2))"
   ]
  },
  {
   "cell_type": "code",
   "execution_count": 64,
   "id": "a5539cfa",
   "metadata": {},
   "outputs": [
    {
     "name": "stdout",
     "output_type": "stream",
     "text": [
      "Total correlation between sales and user_score: -0.01\n"
     ]
    }
   ],
   "source": [
    "print('Total correlation between sales and user_score:',\n",
    "      round(data_games_after_2014['user_score'].corr(data_games_after_2014['total_sales']),2))"
   ]
  },
  {
   "cell_type": "code",
   "execution_count": 65,
   "id": "f181803c",
   "metadata": {},
   "outputs": [
    {
     "data": {
      "image/png": "[encoded data removed]",
      "text/plain": [
       "<Figure size 576x432 with 1 Axes>"
      ]
     },
     "metadata": {
      "needs_background": "light"
     },
     "output_type": "display_data"
    }
   ],
   "source": [
    "data_games_after_2014.plot(x='user_score', y='total_sales', kind='scatter',figsize=(8,6),\\\n",
    "                           title='Total correlation between sales and user_score');"
   ]
  },
  {
   "cell_type": "code",
   "execution_count": 66,
   "id": "677ba571",
   "metadata": {},
   "outputs": [
    {
     "name": "stdout",
     "output_type": "stream",
     "text": [
      "Correlation between sales and critic_score:\n",
      "ps4 0.4\n",
      "3ds 0.31\n",
      "xone 0.43\n",
      "wiiu 0.37\n",
      "ps3 0.45\n",
      "x360 0.53\n",
      "pc 0.17\n",
      "wii nan\n",
      "psv 0.04\n",
      "psp nan\n"
     ]
    }
   ],
   "source": [
    "print('Correlation between sales and critic_score:')\n",
    "for x in data_games_after_2014['platform'].unique():\n",
    "    print(x, round(data_games_after_2014['critic_score'][data_games_after_2014['platform'] == x].corr\\\n",
    "                   (data_games_after_2014['total_sales'][data_games_after_2014['platform'] == x]),2))"
   ]
  },
  {
   "cell_type": "code",
   "execution_count": 67,
   "id": "bb72e59d",
   "metadata": {},
   "outputs": [
    {
     "name": "stdout",
     "output_type": "stream",
     "text": [
      "Total correlation between sales and critic_score: 0.33\n"
     ]
    }
   ],
   "source": [
    "print('Total correlation between sales and critic_score:',\n",
    "      round(data_games_after_2014['critic_score'].corr(data_games_after_2014['total_sales']),2))"
   ]
  },
  {
   "cell_type": "code",
   "execution_count": 68,
   "id": "4e7f4a7f",
   "metadata": {},
   "outputs": [
    {
     "data": {
      "image/png": "[encoded data removed]",
      "text/plain": [
       "<Figure size 576x432 with 1 Axes>"
      ]
     },
     "metadata": {
      "needs_background": "light"
     },
     "output_type": "display_data"
    }
   ],
   "source": [
    "data_games_after_2014.plot(x='critic_score', y='total_sales', kind='scatter',figsize=(8,6), \\\n",
    "                           title='Total correlation between sales and critic_score');"
   ]
  },
  {
   "cell_type": "markdown",
   "id": "ea2d77ce",
   "metadata": {},
   "source": [
    "Conclusion: the conclusions are approved."
   ]
  },
  {
   "cell_type": "markdown",
   "id": "5f3828d9",
   "metadata": {},
   "source": [
    "<a class=\"anchor\" id=\"Step3.5\"></a>\n",
    "### 3.5. The dependence of total_sales on the genre of a game"
   ]
  },
  {
   "cell_type": "code",
   "execution_count": 69,
   "id": "d112002a",
   "metadata": {},
   "outputs": [
    {
     "data": {
      "image/png": "[encoded data removed]",
      "text/plain": [
       "<Figure size 1040x800 with 1 Axes>"
      ]
     },
     "metadata": {
      "needs_background": "light"
     },
     "output_type": "display_data"
    }
   ],
   "source": [
    "#distribution of total_sales by genre\n",
    "plt.figure(figsize=(13,10), dpi= 80)\n",
    "sns.boxplot(x='genre', y='total_sales', data=data_games_after_2014, notch=False)\n",
    "\n",
    "        \n",
    "plt.title('Distribution of total sales by genre', fontsize=22)\n",
    "plt.show()"
   ]
  },
  {
   "cell_type": "code",
   "execution_count": 70,
   "id": "c9ab1b11",
   "metadata": {},
   "outputs": [
    {
     "data": {
      "image/png": "[encoded data removed]",
      "text/plain": [
       "<Figure size 1080x432 with 1 Axes>"
      ]
     },
     "metadata": {
      "needs_background": "light"
     },
     "output_type": "display_data"
    }
   ],
   "source": [
    "plt.figure(figsize=(15,6))\n",
    "sns.boxplot(x='genre', y='total_sales', data=data_games_after_2014)    \n",
    "\n",
    "plt.ylim(0,4)\n",
    "plt.title('Distribution of total sales by genre', fontsize=22)\n",
    "plt.show()"
   ]
  },
  {
   "cell_type": "markdown",
   "id": "a0aad5ac",
   "metadata": {},
   "source": [
    "Conclusion: we looked at the distribution of total_sales by genre of a game.\n",
    "We can draw the following conclusions:\n",
    "- Shooter and Sports are the most profitable genres. There are a lot of popular games which bring high income. An average game of these genre also has a high median income.\n",
    "- Action and Shooter games gain the popularity more othen than other games, that's why these genres bring more income.\n",
    "- The most unpopular genres are puzzle, strategy and adventure."
   ]
  },
  {
   "cell_type": "markdown",
   "id": "e1b232cb",
   "metadata": {},
   "source": [
    "**FINFL CONCLUSION (chapter 3)**: "
   ]
  },
  {
   "cell_type": "markdown",
   "id": "24e504cd",
   "metadata": {},
   "source": [
    "- Can be mentioned a trend to decrease the number of games since 2009\n",
    "- The most perspective platform in 2016 is XOne. Most of the hit games were released on PS4, 3DS and XOne. The median income is higher for the platforms Wii, X360 and XOne.\n",
    "- The scores from critics and users don't have an influence on total sales.\n",
    "- Shooter and Sport are the most profitable genres. Shooter and Sport games gain the popularity more othen than other games, that's why these genres bring more income.\n",
    "- The most unpopular genres are puzzle, strategy and adventure."
   ]
  },
  {
   "cell_type": "markdown",
   "id": "87d0d7e7",
   "metadata": {},
   "source": [
    "<a class=\"anchor\" id=\"Step4\"></a>\n",
    "## 4. The User profile"
   ]
  },
  {
   "cell_type": "markdown",
   "id": "04b70280",
   "metadata": {},
   "source": [
    "<a class=\"anchor\" id=\"Step4.1\"></a>\n",
    "### 4.1. The dependence of the platform on the region"
   ]
  },
  {
   "cell_type": "code",
   "execution_count": 71,
   "id": "68ccb4c5",
   "metadata": {},
   "outputs": [],
   "source": [
    "def graph (df, year, region, name, axes):\n",
    "    \n",
    "    df = df.query('year_of_release >= @year')\n",
    "    \n",
    "    sales = df.pivot_table(index='platform', \n",
    "                           values=region, \n",
    "                           aggfunc='sum').nlargest(5, region)\n",
    "    \n",
    "    sales = sales.reset_index()\n",
    "    \n",
    "    sales = (\n",
    "            sales.append({'platform': 'Other', region: df[region].sum() \n",
    "                       - sales[region].sum()}, ignore_index= True)\n",
    "         )\n",
    "    \n",
    "    colours = {'ps4': 'C0',\n",
    "               'xone': 'C1',\n",
    "               'x360': 'C2',\n",
    "               '3ds': 'C3',\n",
    "               'wiiu': 'C4',\n",
    "               'Other': 'C5',\n",
    "               'ps3': 'C6',\n",
    "               'pc': 'C7',\n",
    "               'psv': 'C8'}\n",
    "    \n",
    "    labels = sales.platform\n",
    "    \n",
    "    sales.columns = ['platform', 'sales']\n",
    "    sales.plot(kind='pie',\n",
    "               y=\"sales\",\n",
    "               \n",
    "               autopct='%1.0f%%',\n",
    "               wedgeprops={'linewidth': 3.0, 'edgecolor': 'white'},\n",
    "               textprops={'size': 'x-large'}, labels = sales.platform,\n",
    "               \n",
    "               legend=False, \n",
    "               title = f\"The popularity of platforms in {name} \",\n",
    "               ax = axes,\n",
    "               colors=[colours[key] for key in labels]).set(ylabel='')\n",
    "    \n",
    "    plt.tight_layout()\n",
    "    \n"
   ]
  },
  {
   "cell_type": "code",
   "execution_count": 72,
   "id": "72c1f0f8",
   "metadata": {},
   "outputs": [
    {
     "data": {
      "image/png": "[encoded data removed]",
      "text/plain": [
       "<Figure size 1080x432 with 3 Axes>"
      ]
     },
     "metadata": {},
     "output_type": "display_data"
    }
   ],
   "source": [
    "#popular platform in 2012\n",
    "fig, axes = plt.subplots(1, 3, figsize = (15,6))\n",
    "fig.suptitle(\"The platforms preferred by users in 2012 \", fontsize = 30, fontweight='bold')\n",
    "\n",
    "x_year = 2012\n",
    "\n",
    "graph(data, x_year, 'na_sales', 'North America', axes[0])\n",
    "graph(data, x_year,'eu_sales', 'Europe', axes[1])\n",
    "graph(data, x_year, 'jp_sales', 'Japan', axes[2])"
   ]
  },
  {
   "cell_type": "code",
   "execution_count": 73,
   "id": "164870dd",
   "metadata": {},
   "outputs": [
    {
     "data": {
      "image/png": "[encoded data removed]",
      "text/plain": [
       "<Figure size 1080x432 with 3 Axes>"
      ]
     },
     "metadata": {},
     "output_type": "display_data"
    }
   ],
   "source": [
    "fig, axes = plt.subplots(1, 3, figsize = (15,6))\n",
    "fig.suptitle('The platforms preferred by users in 2015', fontsize = 30, fontweight='bold')\n",
    "\n",
    "x_year = 2015\n",
    "\n",
    "\n",
    "graph(data_games_after_2014, x_year, 'na_sales', 'North America', axes[0])\n",
    "graph(data_games_after_2014, x_year,'eu_sales', 'Europe', axes[1])\n",
    "graph(data_games_after_2014, x_year, 'jp_sales', 'Japan', axes[2])"
   ]
  },
  {
   "cell_type": "markdown",
   "id": "f2480507",
   "metadata": {},
   "source": [
    "Conclusion: The users from different regions have different preferences in platforms. PS4 and XOne are the most popular platforms for users from Europe and North America, 3DS is the most popular for the users from Japan. XOne isn't in the top of the popular platforms in Japan, but PS4 is in top-5 platforms in Japan.\n",
    "\n",
    "Video game market in Europe and North America became more monopolized to compare with 2012. Two platforms PS4 and XOne have more than 70% of sales in Europe and North America. The structure of japanese market is more stable."
   ]
  },
  {
   "cell_type": "markdown",
   "id": "09f57285",
   "metadata": {},
   "source": [
    "<a class=\"anchor\" id=\"Step4.2\"></a>\n",
    "### 4.2. The dependence of the genre on the region"
   ]
  },
  {
   "cell_type": "code",
   "execution_count": 74,
   "id": "e2938809",
   "metadata": {},
   "outputs": [],
   "source": [
    "def graph (df, year, region, name, axes):\n",
    "    \n",
    "    df = df.query('year_of_release >= @year')\n",
    "    \n",
    "    sales = df.pivot_table(index='genre', \n",
    "                           values=region, \n",
    "                           aggfunc='sum').nlargest(5, region)\n",
    "    \n",
    "    sales = sales.reset_index()\n",
    "    \n",
    "    sales = (\n",
    "            sales.append({'genre': 'Other', region: df[region].sum() \n",
    "                       - sales[region].sum()}, ignore_index= True)\n",
    "         )\n",
    "    \n",
    "    \n",
    "    sales.columns = ['genre', 'sales']\n",
    "    sales.plot(kind='bar',\n",
    "               x='genre',\n",
    "               y=\"sales\",\n",
    "               \n",
    "\n",
    "               title = f\"The popularity of genres in {name} \", \n",
    "               ax = axes).set(ylabel='')\n",
    "    plt.tight_layout()"
   ]
  },
  {
   "cell_type": "code",
   "execution_count": 75,
   "id": "6a5545e8",
   "metadata": {},
   "outputs": [
    {
     "data": {
      "image/png": "[encoded data removed]",
      "text/plain": [
       "<Figure size 1080x432 with 3 Axes>"
      ]
     },
     "metadata": {
      "needs_background": "light"
     },
     "output_type": "display_data"
    }
   ],
   "source": [
    "fig, axes = plt.subplots(1, 3, figsize = (15,6))\n",
    "fig.suptitle('The genres preferred by users in 2012', fontsize = 30, fontweight='bold')\n",
    "\n",
    "x_year = 2012\n",
    "\n",
    "graph(data, x_year, 'na_sales', 'North America', axes[0])\n",
    "graph(data, x_year,'eu_sales', 'Europe', axes[1])\n",
    "graph(data, x_year, 'jp_sales', 'Japan', axes[2])"
   ]
  },
  {
   "cell_type": "code",
   "execution_count": 76,
   "id": "5c6b4b7c",
   "metadata": {},
   "outputs": [
    {
     "data": {
      "image/png": "[encoded data removed]",
      "text/plain": [
       "<Figure size 1080x432 with 3 Axes>"
      ]
     },
     "metadata": {
      "needs_background": "light"
     },
     "output_type": "display_data"
    }
   ],
   "source": [
    "fig, axes = plt.subplots(1, 3, figsize = (15,6))\n",
    "fig.suptitle('The genres preferred by users in 2015', fontsize = 30, fontweight='bold')\n",
    "\n",
    "x_year = 2015\n",
    "\n",
    "graph(data_games_after_2014, x_year, 'na_sales', 'North America', axes[0])\n",
    "graph(data_games_after_2014, x_year,'eu_sales', 'Europe', axes[1])\n",
    "graph(data_games_after_2014, x_year, 'jp_sales', 'Japan', axes[2])"
   ]
  },
  {
   "cell_type": "markdown",
   "id": "36992f71",
   "metadata": {},
   "source": [
    "Conclusion: The preferences of users from Europe and North America differ very slightly. The most popular genres in NA and EU are Shooter, Action and Sport. Japanese users prefer Action and Role-Playing. Shooters are also in top-5 most popular genres in Japan.\n",
    "\n",
    "The preferences of players in Europe and North America are stable. The preferences of japanese players change but the most popular genres are Action and Role-Playing."
   ]
  },
  {
   "cell_type": "markdown",
   "id": "d3569b8f",
   "metadata": {},
   "source": [
    "<a class=\"anchor\" id=\"Step4.3\"></a>\n",
    "### 4.3. The dependence of the ESRB rating on the sales in the regions"
   ]
  },
  {
   "cell_type": "markdown",
   "id": "5cebff8c",
   "metadata": {},
   "source": [
    "If income depends on ESRB rating, the most high income will get the games, which have the most wider audience. There are games from the category 'no limits'. The most low sales should be for the games in category 'rating is absent'."
   ]
  },
  {
   "cell_type": "code",
   "execution_count": 77,
   "id": "76993089",
   "metadata": {},
   "outputs": [
    {
     "data": {
      "text/plain": [
       "array(['rating is absent', 'for adults', 'no limits', 'for teenagers'],\n",
       "      dtype=object)"
      ]
     },
     "execution_count": 77,
     "metadata": {},
     "output_type": "execute_result"
    }
   ],
   "source": [
    "data_games_after_2014['category_of_rating'].unique()"
   ]
  },
  {
   "cell_type": "code",
   "execution_count": 78,
   "id": "713e7fb2",
   "metadata": {},
   "outputs": [
    {
     "data": {
      "text/plain": [
       "category_of_rating\n",
       "for adults          93.44\n",
       "for teenagers       60.24\n",
       "rating is absent    58.98\n",
       "no limits           58.06\n",
       "Name: eu_sales, dtype: float64"
      ]
     },
     "metadata": {},
     "output_type": "display_data"
    }
   ],
   "source": [
    "#ESRB rating: Europe\n",
    "rating_eu = data_games_after_2014.groupby(by='category_of_rating')['eu_sales'].sum().sort_values(ascending=False)\n",
    "display(rating_eu)"
   ]
  },
  {
   "cell_type": "code",
   "execution_count": 79,
   "id": "f1cdd2a6",
   "metadata": {},
   "outputs": [
    {
     "data": {
      "image/png": "[encoded data removed]",
      "text/plain": [
       "<Figure size 576x432 with 1 Axes>"
      ]
     },
     "metadata": {
      "needs_background": "light"
     },
     "output_type": "display_data"
    }
   ],
   "source": [
    "rating_eu.plot(kind='bar',figsize=(8,6), ylabel='Sales', grid=True,\\\n",
    "               title='The dependence of the ESRB rating on the sales: Europe');"
   ]
  },
  {
   "cell_type": "code",
   "execution_count": 80,
   "id": "33d4ae89",
   "metadata": {},
   "outputs": [
    {
     "data": {
      "text/plain": [
       "category_of_rating\n",
       "for adults          96.43\n",
       "for teenagers       72.26\n",
       "rating is absent    64.72\n",
       "no limits           50.74\n",
       "Name: na_sales, dtype: float64"
      ]
     },
     "metadata": {},
     "output_type": "display_data"
    }
   ],
   "source": [
    "#ESRB rating: North America\n",
    "rating_na = data_games_after_2014.groupby(by='category_of_rating')['na_sales'].sum().sort_values(ascending=False)\n",
    "display(rating_na)"
   ]
  },
  {
   "cell_type": "code",
   "execution_count": 81,
   "id": "a53e336f",
   "metadata": {},
   "outputs": [
    {
     "data": {
      "image/png": "[encoded data removed]",
      "text/plain": [
       "<Figure size 576x432 with 1 Axes>"
      ]
     },
     "metadata": {
      "needs_background": "light"
     },
     "output_type": "display_data"
    }
   ],
   "source": [
    "rating_na.plot(kind='bar',figsize=(8,6), ylabel='Sales', grid=True,\\\n",
    "               title='The dependence of the ESRB rating on the sales: North America');"
   ]
  },
  {
   "cell_type": "code",
   "execution_count": 82,
   "id": "a9991bd6",
   "metadata": {},
   "outputs": [
    {
     "data": {
      "text/plain": [
       "category_of_rating\n",
       "rating is absent    56.92\n",
       "for teenagers       19.24\n",
       "no limits            8.94\n",
       "for adults           8.01\n",
       "Name: jp_sales, dtype: float64"
      ]
     },
     "metadata": {},
     "output_type": "display_data"
    }
   ],
   "source": [
    "#ESRB rating: Japan\n",
    "rating_jp = data_games_after_2014.groupby(by='category_of_rating')['jp_sales'].sum().sort_values(ascending=False)\n",
    "display(rating_jp)"
   ]
  },
  {
   "cell_type": "code",
   "execution_count": 83,
   "id": "760b9bb9",
   "metadata": {},
   "outputs": [
    {
     "data": {
      "image/png": "[encoded data removed]",
      "text/plain": [
       "<Figure size 576x432 with 1 Axes>"
      ]
     },
     "metadata": {
      "needs_background": "light"
     },
     "output_type": "display_data"
    }
   ],
   "source": [
    "rating_jp.plot(kind='bar',figsize=(8,6),  grid=True, ylabel='Sales',\\\n",
    "               title='The dependence of the ESRB rating on the sales: Japan');"
   ]
  },
  {
   "cell_type": "markdown",
   "id": "78fdbbe8",
   "metadata": {},
   "source": [
    "Conclusion: rating ESRB don't have an influence on sales in regions."
   ]
  },
  {
   "cell_type": "markdown",
   "id": "9761c927",
   "metadata": {},
   "source": [
    "**FINFL CONCLUSION (chapter 4)**: "
   ]
  },
  {
   "cell_type": "markdown",
   "id": "8e57405b",
   "metadata": {},
   "source": [
    "We can create the following user profiles:\n",
    "    \n",
    "- Europe: the most popular platforms are: PS4, XOne, the most popular genres are shooter, action and sport, rating ESRB don't have an influence on sales\n",
    "\n",
    "- North America: the most popular platforms are: PS4, XOne, the most popular genres are shooter, action and sport, rating ESRB don't have an influence on sales\n",
    "\n",
    "- Japan: the most popular platforms are: 3DS, PS4, the most popular genres are role-playing, actions, rating ESRB don't have an influence on sales"
   ]
  },
  {
   "cell_type": "markdown",
   "id": "404064cb",
   "metadata": {},
   "source": [
    "<a class=\"anchor\" id=\"Step5\"></a>\n",
    "## 5. Statistical hypothesis testing"
   ]
  },
  {
   "cell_type": "markdown",
   "id": "d1d3ad9c",
   "metadata": {},
   "source": [
    "<a class=\"anchor\" id=\"Step5.1\"></a>\n",
    "### 5.1. Hypothesis testing: The average user ratings of the platforms Xbox One и PC are the same"
   ]
  },
  {
   "cell_type": "markdown",
   "id": "b2523c0a",
   "metadata": {},
   "source": [
    "**Тhe null hypothesis:** the average user ratings of the platforms Xbox One и PC are the same\n",
    "\n",
    "**The alternative hypothesis:** the average user ratings of the platforms Xbox One и PC are not the same"
   ]
  },
  {
   "cell_type": "code",
   "execution_count": 84,
   "id": "2ce8cdc6",
   "metadata": {},
   "outputs": [
    {
     "name": "stdout",
     "output_type": "stream",
     "text": [
      "p-value: 0.1376287919530105\n",
      "we can't reject the null hypothesis\n"
     ]
    }
   ],
   "source": [
    "results = st.ttest_ind(\n",
    "    data_games_after_2014[((data_games_after_2014['platform'] == 'xone') & (~data_games_after_2014['user_score'].isna()))]\\\n",
    "    ['user_score'],\n",
    "    data_games_after_2014[((data_games_after_2014['platform'] == 'pc') & (~data_games_after_2014['user_score'].isna()))]\\\n",
    "    ['user_score'],\n",
    "    equal_var = False\n",
    ")\n",
    "\n",
    "alpha = 0.05\n",
    "\n",
    "print(f'p-value: {results.pvalue}')\n",
    "\n",
    "if results.pvalue < alpha:\n",
    "    print('Reject the null hypothesis')\n",
    "else:\n",
    "    print(\"we can't reject the null hypothesis\")"
   ]
  },
  {
   "cell_type": "markdown",
   "id": "d9ad82e1",
   "metadata": {},
   "source": [
    "Conclusion: we can't reject the hypothesis 'The average user ratings of the platforms Xbox One и PC are the same'"
   ]
  },
  {
   "cell_type": "markdown",
   "id": "a6351b99",
   "metadata": {},
   "source": [
    "<a class=\"anchor\" id=\"Step5.2\"></a>\n",
    "### 5.2 Hypothesis testing: The average user ratings of the genres Action and Sports are different"
   ]
  },
  {
   "cell_type": "markdown",
   "id": "80daffe8",
   "metadata": {},
   "source": [
    "**Тhe null hypothesis:** the average user ratings of the genres Action and Sports are the same\n",
    "\n",
    "**The alternative hypothesis:** the average user ratings of the genres Action and Sports are not the same"
   ]
  },
  {
   "cell_type": "code",
   "execution_count": 85,
   "id": "219274c3",
   "metadata": {},
   "outputs": [
    {
     "name": "stdout",
     "output_type": "stream",
     "text": [
      "p-value: 1.1825550382644557e-14\n",
      "Reject the null hypothesis\n"
     ]
    }
   ],
   "source": [
    "results = st.ttest_ind(\n",
    "    data_games_after_2014[((data_games_after_2014['genre'] == 'action') & (~data_games_after_2014['user_score'].isna()))]\\\n",
    "    ['user_score'],\n",
    "    data_games_after_2014[((data_games_after_2014['genre'] == 'sports') & (~data_games_after_2014['user_score'].isna()))]\\\n",
    "    ['user_score'],\n",
    "    equal_var = False\n",
    ")\n",
    "\n",
    "alpha = 0.05\n",
    "\n",
    "print(f'p-value: {results.pvalue}')\n",
    "\n",
    "if results.pvalue < alpha:\n",
    "    print('Reject the null hypothesis')\n",
    "else:\n",
    "    print(\"we can't reject the null hypothesis\")"
   ]
  },
  {
   "cell_type": "markdown",
   "id": "69c79734",
   "metadata": {},
   "source": [
    "Conclusion: we can't reject the hypothesis 'The average user ratings of the genres Action and Sports are different'"
   ]
  },
  {
   "cell_type": "markdown",
   "id": "5977b8e3",
   "metadata": {},
   "source": [
    "<a class=\"anchor\" id=\"Step6\"></a>\n",
    "## 6. Conclusion"
   ]
  },
  {
   "cell_type": "markdown",
   "id": "57488a16",
   "metadata": {},
   "source": [
    "In line with the aim of research were established the main factors have an influence on video game market.\n",
    "\n",
    "There are following trends on the video games market:\n",
    "- Can be mentioned a trend to decrease the number of games since 2009\n",
    "- The most perspctive platform in 2016 is XOne. The most games which became the hits were released on the PS4, 3DS and XOne. The median income is highercfor the platforms Wii, X360 and XOne.\n",
    "- The scores of critics and users don't have an influence on total sales.\n",
    "- Shooter and Sport are the most profitable genres. Games in genres Action and Shooter gain the popularity more othen than other games, that's why these genres bring more income.\n",
    "- The most unpopuler genres of games are puzzle, strategy and adventure.\n",
    "\n",
    "The popularity of games and platforms depends on region. Users profile from regions Europe, North America and Japan were created:\n",
    "\n",
    "- Europe: the most popular platforms are: PS4, XOne, the most popular genres are shooter, action and sport, rating ESRB don't have an influence on sales\n",
    "\n",
    "- North America: the most popular platforms are: PS4, XOne, the most popular genres are shooter, action and sport, rating ESRB don't have an influence on sales\n",
    "\n",
    "- Japan: the most popular platforms are: 3DS, PS4, the most popular genres are role-playing, actions, rating ESRB don't have an influence on sales\n",
    "\n",
    "\n",
    "We can't reject the hypothesis that the average user ratings of the platforms Xbox One и PC are the same. Also we can't reject the hypothesis that the average user ratings of the genres Action and Sports are different.\n",
    "\n",
    "\n",
    "So the potantial popular game with high income in 2017 must meet the following criteria:\n",
    "- should be on the platforms PS4 or XOne\n",
    "- genre: Shooter"
   ]
  }
 ],
 "metadata": {
  "ExecuteTimeLog": [
   {
    "duration": 41,
    "start_time": "2022-08-10T20:12:59.746Z"
   },
   {
    "duration": 1236,
    "start_time": "2022-08-10T20:13:05.556Z"
   },
   {
    "duration": 250,
    "start_time": "2022-08-10T20:13:06.794Z"
   },
   {
    "duration": 16,
    "start_time": "2022-08-10T20:13:07.045Z"
   },
   {
    "duration": 16,
    "start_time": "2022-08-10T20:13:07.062Z"
   },
   {
    "duration": 626,
    "start_time": "2022-08-10T20:13:07.080Z"
   },
   {
    "duration": 5,
    "start_time": "2022-08-10T20:13:07.708Z"
   },
   {
    "duration": 22,
    "start_time": "2022-08-10T20:13:07.714Z"
   },
   {
    "duration": 17,
    "start_time": "2022-08-10T20:13:07.738Z"
   },
   {
    "duration": 11,
    "start_time": "2022-08-10T20:13:07.757Z"
   },
   {
    "duration": 5,
    "start_time": "2022-08-10T20:13:07.769Z"
   },
   {
    "duration": 22,
    "start_time": "2022-08-10T20:13:07.775Z"
   },
   {
    "duration": 6,
    "start_time": "2022-08-10T20:13:07.798Z"
   },
   {
    "duration": 15,
    "start_time": "2022-08-10T20:13:07.805Z"
   },
   {
    "duration": 34,
    "start_time": "2022-08-10T20:13:07.823Z"
   },
   {
    "duration": 20,
    "start_time": "2022-08-10T20:13:07.858Z"
   },
   {
    "duration": 6,
    "start_time": "2022-08-10T20:13:07.879Z"
   },
   {
    "duration": 6,
    "start_time": "2022-08-10T20:13:07.886Z"
   },
   {
    "duration": 182,
    "start_time": "2022-08-10T20:13:07.893Z"
   },
   {
    "duration": 146,
    "start_time": "2022-08-10T20:13:08.077Z"
   },
   {
    "duration": 0,
    "start_time": "2022-08-10T20:13:08.226Z"
   },
   {
    "duration": 0,
    "start_time": "2022-08-10T20:13:08.226Z"
   },
   {
    "duration": 0,
    "start_time": "2022-08-10T20:13:08.227Z"
   },
   {
    "duration": 0,
    "start_time": "2022-08-10T20:13:08.228Z"
   },
   {
    "duration": 0,
    "start_time": "2022-08-10T20:13:08.230Z"
   },
   {
    "duration": 0,
    "start_time": "2022-08-10T20:13:08.231Z"
   },
   {
    "duration": 0,
    "start_time": "2022-08-10T20:13:08.231Z"
   },
   {
    "duration": 0,
    "start_time": "2022-08-10T20:13:08.232Z"
   },
   {
    "duration": 0,
    "start_time": "2022-08-10T20:13:08.233Z"
   },
   {
    "duration": 0,
    "start_time": "2022-08-10T20:13:08.234Z"
   },
   {
    "duration": 0,
    "start_time": "2022-08-10T20:13:08.235Z"
   },
   {
    "duration": 0,
    "start_time": "2022-08-10T20:13:08.236Z"
   },
   {
    "duration": 0,
    "start_time": "2022-08-10T20:13:08.255Z"
   },
   {
    "duration": 0,
    "start_time": "2022-08-10T20:13:08.256Z"
   },
   {
    "duration": 0,
    "start_time": "2022-08-10T20:13:08.257Z"
   },
   {
    "duration": 0,
    "start_time": "2022-08-10T20:13:08.258Z"
   },
   {
    "duration": 0,
    "start_time": "2022-08-10T20:13:08.259Z"
   },
   {
    "duration": 0,
    "start_time": "2022-08-10T20:13:08.260Z"
   },
   {
    "duration": 0,
    "start_time": "2022-08-10T20:13:08.261Z"
   },
   {
    "duration": 0,
    "start_time": "2022-08-10T20:13:08.262Z"
   },
   {
    "duration": 0,
    "start_time": "2022-08-10T20:13:08.263Z"
   },
   {
    "duration": 0,
    "start_time": "2022-08-10T20:13:08.264Z"
   },
   {
    "duration": 0,
    "start_time": "2022-08-10T20:13:08.265Z"
   },
   {
    "duration": 0,
    "start_time": "2022-08-10T20:13:08.265Z"
   },
   {
    "duration": 0,
    "start_time": "2022-08-10T20:13:08.266Z"
   },
   {
    "duration": 0,
    "start_time": "2022-08-10T20:13:08.267Z"
   },
   {
    "duration": 0,
    "start_time": "2022-08-10T20:13:08.268Z"
   },
   {
    "duration": 0,
    "start_time": "2022-08-10T20:13:08.269Z"
   },
   {
    "duration": 0,
    "start_time": "2022-08-10T20:13:08.270Z"
   },
   {
    "duration": 0,
    "start_time": "2022-08-10T20:13:08.271Z"
   },
   {
    "duration": 0,
    "start_time": "2022-08-10T20:13:08.272Z"
   },
   {
    "duration": 0,
    "start_time": "2022-08-10T20:13:08.272Z"
   },
   {
    "duration": 0,
    "start_time": "2022-08-10T20:13:08.273Z"
   },
   {
    "duration": 0,
    "start_time": "2022-08-10T20:13:08.274Z"
   },
   {
    "duration": 0,
    "start_time": "2022-08-10T20:13:08.275Z"
   },
   {
    "duration": 0,
    "start_time": "2022-08-10T20:13:08.276Z"
   },
   {
    "duration": 0,
    "start_time": "2022-08-10T20:13:08.277Z"
   },
   {
    "duration": 0,
    "start_time": "2022-08-10T20:13:08.278Z"
   },
   {
    "duration": 0,
    "start_time": "2022-08-10T20:13:08.279Z"
   },
   {
    "duration": 0,
    "start_time": "2022-08-10T20:13:08.279Z"
   },
   {
    "duration": 0,
    "start_time": "2022-08-10T20:13:08.280Z"
   },
   {
    "duration": 0,
    "start_time": "2022-08-10T20:13:08.281Z"
   },
   {
    "duration": 0,
    "start_time": "2022-08-10T20:13:08.282Z"
   },
   {
    "duration": 0,
    "start_time": "2022-08-10T20:13:08.283Z"
   },
   {
    "duration": 0,
    "start_time": "2022-08-10T20:13:08.284Z"
   },
   {
    "duration": 0,
    "start_time": "2022-08-10T20:13:08.285Z"
   },
   {
    "duration": 0,
    "start_time": "2022-08-10T20:13:08.286Z"
   },
   {
    "duration": 0,
    "start_time": "2022-08-10T20:13:08.287Z"
   },
   {
    "duration": 0,
    "start_time": "2022-08-10T20:13:08.288Z"
   },
   {
    "duration": 0,
    "start_time": "2022-08-10T20:13:08.289Z"
   },
   {
    "duration": 0,
    "start_time": "2022-08-10T20:13:08.290Z"
   },
   {
    "duration": 0,
    "start_time": "2022-08-10T20:13:08.290Z"
   },
   {
    "duration": 0,
    "start_time": "2022-08-10T20:13:08.292Z"
   },
   {
    "duration": 0,
    "start_time": "2022-08-10T20:13:08.293Z"
   },
   {
    "duration": 0,
    "start_time": "2022-08-10T20:13:08.355Z"
   },
   {
    "duration": 0,
    "start_time": "2022-08-10T20:13:08.356Z"
   },
   {
    "duration": 0,
    "start_time": "2022-08-10T20:13:08.357Z"
   },
   {
    "duration": 0,
    "start_time": "2022-08-10T20:13:08.358Z"
   },
   {
    "duration": 0,
    "start_time": "2022-08-10T20:13:08.359Z"
   },
   {
    "duration": 0,
    "start_time": "2022-08-10T20:13:08.360Z"
   },
   {
    "duration": 0,
    "start_time": "2022-08-10T20:13:08.361Z"
   },
   {
    "duration": 0,
    "start_time": "2022-08-10T20:13:08.362Z"
   },
   {
    "duration": 0,
    "start_time": "2022-08-10T20:13:08.363Z"
   },
   {
    "duration": 0,
    "start_time": "2022-08-10T20:13:08.364Z"
   },
   {
    "duration": 0,
    "start_time": "2022-08-10T20:13:08.365Z"
   },
   {
    "duration": 0,
    "start_time": "2022-08-10T20:13:08.366Z"
   },
   {
    "duration": 0,
    "start_time": "2022-08-10T20:13:08.367Z"
   },
   {
    "duration": 0,
    "start_time": "2022-08-10T20:13:08.368Z"
   },
   {
    "duration": 8,
    "start_time": "2022-08-10T20:13:24.960Z"
   },
   {
    "duration": 15,
    "start_time": "2022-08-10T20:13:26.215Z"
   },
   {
    "duration": 5,
    "start_time": "2022-08-10T20:13:29.640Z"
   },
   {
    "duration": 8,
    "start_time": "2022-08-10T20:13:30.340Z"
   },
   {
    "duration": 25,
    "start_time": "2022-08-10T20:13:30.711Z"
   },
   {
    "duration": 12,
    "start_time": "2022-08-10T20:13:55.380Z"
   },
   {
    "duration": 914,
    "start_time": "2022-08-10T20:13:56.065Z"
   },
   {
    "duration": 9,
    "start_time": "2022-08-10T20:13:56.982Z"
   },
   {
    "duration": 3,
    "start_time": "2022-08-10T20:13:58.155Z"
   },
   {
    "duration": 21,
    "start_time": "2022-08-10T20:13:59.062Z"
   },
   {
    "duration": 5,
    "start_time": "2022-08-10T20:13:59.959Z"
   },
   {
    "duration": 128,
    "start_time": "2022-08-10T20:14:00.471Z"
   },
   {
    "duration": 116,
    "start_time": "2022-08-10T20:14:01.270Z"
   },
   {
    "duration": 6,
    "start_time": "2022-08-10T20:14:01.720Z"
   },
   {
    "duration": 3,
    "start_time": "2022-08-10T20:14:02.150Z"
   },
   {
    "duration": 12,
    "start_time": "2022-08-10T20:14:04.491Z"
   },
   {
    "duration": 10,
    "start_time": "2022-08-10T20:17:16.010Z"
   },
   {
    "duration": 316,
    "start_time": "2022-08-10T20:17:18.090Z"
   },
   {
    "duration": 93,
    "start_time": "2022-08-10T20:17:44.970Z"
   },
   {
    "duration": 7,
    "start_time": "2022-08-10T20:17:45.950Z"
   },
   {
    "duration": 5,
    "start_time": "2022-08-10T20:17:47.416Z"
   },
   {
    "duration": 17,
    "start_time": "2022-08-10T20:17:58.055Z"
   },
   {
    "duration": 21,
    "start_time": "2022-08-10T20:18:07.370Z"
   },
   {
    "duration": 6,
    "start_time": "2022-08-10T20:18:13.294Z"
   },
   {
    "duration": 12,
    "start_time": "2022-08-10T20:18:16.314Z"
   },
   {
    "duration": 5,
    "start_time": "2022-08-10T20:18:24.100Z"
   },
   {
    "duration": 5,
    "start_time": "2022-08-10T20:18:29.780Z"
   },
   {
    "duration": 293,
    "start_time": "2022-08-10T20:20:12.580Z"
   },
   {
    "duration": 4,
    "start_time": "2022-08-10T20:21:41.770Z"
   },
   {
    "duration": 23,
    "start_time": "2022-08-10T20:21:43.175Z"
   },
   {
    "duration": 712,
    "start_time": "2022-08-10T20:21:51.200Z"
   },
   {
    "duration": 7,
    "start_time": "2022-08-10T20:21:59.199Z"
   },
   {
    "duration": 282,
    "start_time": "2022-08-10T20:22:01.639Z"
   },
   {
    "duration": 4,
    "start_time": "2022-08-10T20:24:04.069Z"
   },
   {
    "duration": 7,
    "start_time": "2022-08-10T20:24:05.479Z"
   },
   {
    "duration": 126,
    "start_time": "2022-08-10T20:24:07.799Z"
   },
   {
    "duration": 4,
    "start_time": "2022-08-10T20:24:08.710Z"
   },
   {
    "duration": 141,
    "start_time": "2022-08-10T20:24:10.270Z"
   },
   {
    "duration": 24,
    "start_time": "2022-08-10T20:24:13.370Z"
   },
   {
    "duration": 3,
    "start_time": "2022-08-10T20:24:15.880Z"
   },
   {
    "duration": 135,
    "start_time": "2022-08-10T20:24:16.545Z"
   },
   {
    "duration": 27,
    "start_time": "2022-08-10T20:24:18.609Z"
   },
   {
    "duration": 5,
    "start_time": "2022-08-10T20:24:20.954Z"
   },
   {
    "duration": 142,
    "start_time": "2022-08-10T20:24:21.249Z"
   },
   {
    "duration": 10,
    "start_time": "2022-08-10T20:25:48.469Z"
   },
   {
    "duration": 168,
    "start_time": "2022-08-10T20:25:51.790Z"
   },
   {
    "duration": 9,
    "start_time": "2022-08-10T20:25:52.689Z"
   },
   {
    "duration": 168,
    "start_time": "2022-08-10T20:25:53.269Z"
   },
   {
    "duration": 7,
    "start_time": "2022-08-10T20:27:01.613Z"
   },
   {
    "duration": 85,
    "start_time": "2022-08-10T20:27:02.414Z"
   },
   {
    "duration": 96,
    "start_time": "2022-08-10T20:27:06.329Z"
   },
   {
    "duration": 6,
    "start_time": "2022-08-10T20:27:06.939Z"
   },
   {
    "duration": 176,
    "start_time": "2022-08-10T20:27:07.709Z"
   },
   {
    "duration": 7,
    "start_time": "2022-08-10T20:27:08.274Z"
   },
   {
    "duration": 85,
    "start_time": "2022-08-10T20:27:08.793Z"
   },
   {
    "duration": 7,
    "start_time": "2022-08-10T20:27:10.379Z"
   },
   {
    "duration": 127,
    "start_time": "2022-08-10T20:27:11.019Z"
   },
   {
    "duration": 7,
    "start_time": "2022-08-10T20:27:11.379Z"
   },
   {
    "duration": 114,
    "start_time": "2022-08-10T20:27:12.249Z"
   },
   {
    "duration": 8,
    "start_time": "2022-08-10T20:27:12.883Z"
   },
   {
    "duration": 149,
    "start_time": "2022-08-10T20:27:13.590Z"
   },
   {
    "duration": 6,
    "start_time": "2022-08-10T20:28:46.629Z"
   },
   {
    "duration": 125,
    "start_time": "2022-08-10T20:29:40.878Z"
   },
   {
    "duration": 7,
    "start_time": "2022-08-10T20:29:41.498Z"
   },
   {
    "duration": 113,
    "start_time": "2022-08-10T20:29:42.628Z"
   },
   {
    "duration": 6,
    "start_time": "2022-08-10T20:29:45.489Z"
   },
   {
    "duration": 120,
    "start_time": "2022-08-10T20:29:46.011Z"
   },
   {
    "duration": 7,
    "start_time": "2022-08-10T20:30:19.849Z"
   },
   {
    "duration": 8,
    "start_time": "2022-08-10T20:31:49.688Z"
   },
   {
    "duration": 1137,
    "start_time": "2022-08-15T11:10:24.532Z"
   },
   {
    "duration": 101,
    "start_time": "2022-08-15T11:10:25.671Z"
   },
   {
    "duration": 19,
    "start_time": "2022-08-15T11:10:25.774Z"
   },
   {
    "duration": 27,
    "start_time": "2022-08-15T11:10:25.795Z"
   },
   {
    "duration": 581,
    "start_time": "2022-08-15T11:10:25.824Z"
   },
   {
    "duration": 16,
    "start_time": "2022-08-15T11:10:26.406Z"
   },
   {
    "duration": 21,
    "start_time": "2022-08-15T11:10:26.424Z"
   },
   {
    "duration": 12,
    "start_time": "2022-08-15T11:10:26.446Z"
   },
   {
    "duration": 16,
    "start_time": "2022-08-15T11:10:26.460Z"
   },
   {
    "duration": 12,
    "start_time": "2022-08-15T11:10:26.478Z"
   },
   {
    "duration": 31,
    "start_time": "2022-08-15T11:10:26.492Z"
   },
   {
    "duration": 6,
    "start_time": "2022-08-15T11:10:26.525Z"
   },
   {
    "duration": 16,
    "start_time": "2022-08-15T11:10:26.532Z"
   },
   {
    "duration": 12,
    "start_time": "2022-08-15T11:10:26.550Z"
   },
   {
    "duration": 7,
    "start_time": "2022-08-15T11:10:26.563Z"
   },
   {
    "duration": 10,
    "start_time": "2022-08-15T11:10:26.571Z"
   },
   {
    "duration": 6,
    "start_time": "2022-08-15T11:10:26.582Z"
   },
   {
    "duration": 270,
    "start_time": "2022-08-15T11:10:26.589Z"
   },
   {
    "duration": 772,
    "start_time": "2022-08-15T11:10:26.865Z"
   },
   {
    "duration": 7,
    "start_time": "2022-08-15T11:10:27.639Z"
   },
   {
    "duration": 90,
    "start_time": "2022-08-15T11:10:27.647Z"
   },
   {
    "duration": 14,
    "start_time": "2022-08-15T11:10:27.738Z"
   },
   {
    "duration": 1484,
    "start_time": "2022-08-15T11:10:27.753Z"
   },
   {
    "duration": 9,
    "start_time": "2022-08-15T11:10:29.239Z"
   },
   {
    "duration": 4,
    "start_time": "2022-08-15T11:10:29.249Z"
   },
   {
    "duration": 17,
    "start_time": "2022-08-15T11:10:29.255Z"
   },
   {
    "duration": 4,
    "start_time": "2022-08-15T11:10:29.274Z"
   },
   {
    "duration": 4,
    "start_time": "2022-08-15T11:10:29.282Z"
   },
   {
    "duration": 12,
    "start_time": "2022-08-15T11:10:29.311Z"
   },
   {
    "duration": 8,
    "start_time": "2022-08-15T11:10:29.325Z"
   },
   {
    "duration": 12,
    "start_time": "2022-08-15T11:10:29.334Z"
   },
   {
    "duration": 4,
    "start_time": "2022-08-15T11:10:29.347Z"
   },
   {
    "duration": 279,
    "start_time": "2022-08-15T11:10:29.352Z"
   },
   {
    "duration": 4,
    "start_time": "2022-08-15T11:10:29.633Z"
   },
   {
    "duration": 20,
    "start_time": "2022-08-15T11:10:29.638Z"
   },
   {
    "duration": 15,
    "start_time": "2022-08-15T11:10:29.660Z"
   },
   {
    "duration": 7,
    "start_time": "2022-08-15T11:10:29.676Z"
   },
   {
    "duration": 3,
    "start_time": "2022-08-15T11:10:29.684Z"
   },
   {
    "duration": 46,
    "start_time": "2022-08-15T11:10:29.689Z"
   },
   {
    "duration": 9,
    "start_time": "2022-08-15T11:10:29.736Z"
   },
   {
    "duration": 393,
    "start_time": "2022-08-15T11:10:29.746Z"
   },
   {
    "duration": 110,
    "start_time": "2022-08-15T11:10:30.141Z"
   },
   {
    "duration": 8,
    "start_time": "2022-08-15T11:10:30.252Z"
   },
   {
    "duration": 18,
    "start_time": "2022-08-15T11:10:30.262Z"
   },
   {
    "duration": 19,
    "start_time": "2022-08-15T11:10:30.281Z"
   },
   {
    "duration": 28,
    "start_time": "2022-08-15T11:10:30.310Z"
   },
   {
    "duration": 17,
    "start_time": "2022-08-15T11:10:30.340Z"
   },
   {
    "duration": 17,
    "start_time": "2022-08-15T11:10:30.359Z"
   },
   {
    "duration": 12,
    "start_time": "2022-08-15T11:10:30.378Z"
   },
   {
    "duration": 30,
    "start_time": "2022-08-15T11:10:30.392Z"
   },
   {
    "duration": 18,
    "start_time": "2022-08-15T11:10:30.424Z"
   },
   {
    "duration": 19,
    "start_time": "2022-08-15T11:10:30.444Z"
   },
   {
    "duration": 258,
    "start_time": "2022-08-15T11:10:30.465Z"
   },
   {
    "duration": 6,
    "start_time": "2022-08-15T11:10:30.725Z"
   },
   {
    "duration": 37,
    "start_time": "2022-08-15T11:10:30.732Z"
   },
   {
    "duration": 424,
    "start_time": "2022-08-15T11:10:30.770Z"
   },
   {
    "duration": 6,
    "start_time": "2022-08-15T11:10:31.196Z"
   },
   {
    "duration": 375,
    "start_time": "2022-08-15T11:10:31.210Z"
   },
   {
    "duration": 271,
    "start_time": "2022-08-15T11:10:31.587Z"
   },
   {
    "duration": 3,
    "start_time": "2022-08-15T11:10:31.860Z"
   },
   {
    "duration": 23,
    "start_time": "2022-08-15T11:10:31.864Z"
   },
   {
    "duration": 140,
    "start_time": "2022-08-15T11:10:31.888Z"
   },
   {
    "duration": 5,
    "start_time": "2022-08-15T11:10:32.029Z"
   },
   {
    "duration": 172,
    "start_time": "2022-08-15T11:10:32.035Z"
   },
   {
    "duration": 23,
    "start_time": "2022-08-15T11:10:32.208Z"
   },
   {
    "duration": 14,
    "start_time": "2022-08-15T11:10:32.233Z"
   },
   {
    "duration": 145,
    "start_time": "2022-08-15T11:10:32.248Z"
   },
   {
    "duration": 34,
    "start_time": "2022-08-15T11:10:32.394Z"
   },
   {
    "duration": 4,
    "start_time": "2022-08-15T11:10:32.430Z"
   },
   {
    "duration": 171,
    "start_time": "2022-08-15T11:10:32.435Z"
   },
   {
    "duration": 368,
    "start_time": "2022-08-15T11:10:32.608Z"
   },
   {
    "duration": 305,
    "start_time": "2022-08-15T11:10:32.978Z"
   },
   {
    "duration": 10,
    "start_time": "2022-08-15T11:10:33.284Z"
   },
   {
    "duration": 4,
    "start_time": "2022-08-15T11:10:33.295Z"
   },
   {
    "duration": 22,
    "start_time": "2022-08-15T11:10:33.318Z"
   },
   {
    "duration": 16,
    "start_time": "2022-08-15T11:10:33.341Z"
   },
   {
    "duration": 18,
    "start_time": "2022-08-15T11:10:33.359Z"
   },
   {
    "duration": 27,
    "start_time": "2022-08-15T11:10:33.379Z"
   },
   {
    "duration": 31,
    "start_time": "2022-08-15T11:10:33.408Z"
   },
   {
    "duration": 16,
    "start_time": "2022-08-15T11:10:33.440Z"
   },
   {
    "duration": 17,
    "start_time": "2022-08-15T11:10:33.458Z"
   },
   {
    "duration": 21,
    "start_time": "2022-08-15T11:10:33.482Z"
   },
   {
    "duration": 26,
    "start_time": "2022-08-15T11:10:33.505Z"
   },
   {
    "duration": 11,
    "start_time": "2022-08-15T11:10:33.532Z"
   },
   {
    "duration": 16,
    "start_time": "2022-08-15T11:10:33.544Z"
   },
   {
    "duration": 394,
    "start_time": "2022-08-15T11:10:33.562Z"
   },
   {
    "duration": 10,
    "start_time": "2022-08-15T11:10:33.958Z"
   },
   {
    "duration": 6,
    "start_time": "2022-08-15T11:10:33.970Z"
   },
   {
    "duration": 3,
    "start_time": "2022-08-15T11:10:33.978Z"
   },
   {
    "duration": 6,
    "start_time": "2022-08-15T11:10:33.983Z"
   },
   {
    "duration": 26,
    "start_time": "2022-08-15T11:10:33.991Z"
   },
   {
    "duration": 19,
    "start_time": "2022-08-15T11:10:34.018Z"
   },
   {
    "duration": 16,
    "start_time": "2022-08-15T11:10:34.038Z"
   },
   {
    "duration": 5,
    "start_time": "2022-08-15T11:10:34.056Z"
   },
   {
    "duration": 7,
    "start_time": "2022-08-15T11:10:34.062Z"
   },
   {
    "duration": 6,
    "start_time": "2022-08-15T11:10:34.071Z"
   },
   {
    "duration": 10,
    "start_time": "2022-08-15T11:10:34.078Z"
   },
   {
    "duration": 4,
    "start_time": "2022-08-15T11:10:34.090Z"
   },
   {
    "duration": 7,
    "start_time": "2022-08-15T11:10:34.096Z"
   },
   {
    "duration": 20,
    "start_time": "2022-08-15T11:10:34.105Z"
   },
   {
    "duration": 343,
    "start_time": "2022-08-15T11:10:34.127Z"
   },
   {
    "duration": 4,
    "start_time": "2022-08-15T11:10:34.471Z"
   },
   {
    "duration": 7,
    "start_time": "2022-08-15T11:10:34.477Z"
   },
   {
    "duration": 158,
    "start_time": "2022-08-15T11:10:34.485Z"
   },
   {
    "duration": 7,
    "start_time": "2022-08-15T11:10:34.644Z"
   },
   {
    "duration": 134,
    "start_time": "2022-08-15T11:10:34.652Z"
   },
   {
    "duration": 7,
    "start_time": "2022-08-15T11:10:34.787Z"
   },
   {
    "duration": 143,
    "start_time": "2022-08-15T11:10:34.796Z"
   },
   {
    "duration": 7,
    "start_time": "2022-08-15T11:10:34.941Z"
   },
   {
    "duration": 14,
    "start_time": "2022-08-15T11:10:34.950Z"
   },
   {
    "duration": 37,
    "start_time": "2022-08-15T11:12:52.202Z"
   },
   {
    "duration": 5,
    "start_time": "2022-08-15T11:16:51.051Z"
   },
   {
    "duration": 250,
    "start_time": "2022-08-15T11:23:06.557Z"
   },
   {
    "duration": 112,
    "start_time": "2022-08-15T11:32:17.358Z"
   },
   {
    "duration": 105,
    "start_time": "2022-08-15T11:32:20.924Z"
   },
   {
    "duration": 103,
    "start_time": "2022-08-15T11:32:25.114Z"
   },
   {
    "duration": 5,
    "start_time": "2022-08-15T11:35:39.271Z"
   },
   {
    "duration": 6,
    "start_time": "2022-08-15T11:35:53.407Z"
   },
   {
    "duration": 6,
    "start_time": "2022-08-15T11:36:11.575Z"
   },
   {
    "duration": 8,
    "start_time": "2022-08-15T11:37:20.201Z"
   },
   {
    "duration": 228,
    "start_time": "2022-08-15T11:37:36.007Z"
   },
   {
    "duration": 7,
    "start_time": "2022-08-15T11:37:57.457Z"
   },
   {
    "duration": 6,
    "start_time": "2022-08-15T11:46:48.461Z"
   },
   {
    "duration": 49,
    "start_time": "2022-08-15T11:47:16.641Z"
   },
   {
    "duration": 3,
    "start_time": "2022-08-15T11:47:16.866Z"
   },
   {
    "duration": 8,
    "start_time": "2022-08-15T11:47:17.065Z"
   },
   {
    "duration": 6,
    "start_time": "2022-08-15T11:47:17.264Z"
   },
   {
    "duration": 4,
    "start_time": "2022-08-15T11:47:17.488Z"
   },
   {
    "duration": 4,
    "start_time": "2022-08-15T11:47:17.656Z"
   },
   {
    "duration": 5,
    "start_time": "2022-08-15T11:47:17.904Z"
   },
   {
    "duration": 563,
    "start_time": "2022-08-15T11:47:18.558Z"
   },
   {
    "duration": 549,
    "start_time": "2022-08-15T11:47:24.277Z"
   },
   {
    "duration": 1131,
    "start_time": "2022-08-15T11:47:46.455Z"
   },
   {
    "duration": 95,
    "start_time": "2022-08-15T11:47:47.588Z"
   },
   {
    "duration": 15,
    "start_time": "2022-08-15T11:47:47.685Z"
   },
   {
    "duration": 21,
    "start_time": "2022-08-15T11:47:47.701Z"
   },
   {
    "duration": 606,
    "start_time": "2022-08-15T11:47:47.724Z"
   },
   {
    "duration": 5,
    "start_time": "2022-08-15T11:47:48.332Z"
   },
   {
    "duration": 22,
    "start_time": "2022-08-15T11:47:48.339Z"
   },
   {
    "duration": 12,
    "start_time": "2022-08-15T11:47:48.362Z"
   },
   {
    "duration": 14,
    "start_time": "2022-08-15T11:47:48.376Z"
   },
   {
    "duration": 26,
    "start_time": "2022-08-15T11:47:48.393Z"
   },
   {
    "duration": 17,
    "start_time": "2022-08-15T11:47:48.420Z"
   },
   {
    "duration": 5,
    "start_time": "2022-08-15T11:47:48.439Z"
   },
   {
    "duration": 16,
    "start_time": "2022-08-15T11:47:48.445Z"
   },
   {
    "duration": 13,
    "start_time": "2022-08-15T11:47:48.462Z"
   },
   {
    "duration": 7,
    "start_time": "2022-08-15T11:47:48.476Z"
   },
   {
    "duration": 39,
    "start_time": "2022-08-15T11:47:48.484Z"
   },
   {
    "duration": 26,
    "start_time": "2022-08-15T11:47:48.525Z"
   },
   {
    "duration": 4,
    "start_time": "2022-08-15T11:47:48.553Z"
   },
   {
    "duration": 71,
    "start_time": "2022-08-15T11:47:48.558Z"
   },
   {
    "duration": 562,
    "start_time": "2022-08-15T11:47:48.630Z"
   },
   {
    "duration": 7,
    "start_time": "2022-08-15T11:47:49.194Z"
   },
   {
    "duration": 37,
    "start_time": "2022-08-15T11:47:49.203Z"
   },
   {
    "duration": 12,
    "start_time": "2022-08-15T11:47:49.241Z"
   },
   {
    "duration": 902,
    "start_time": "2022-08-15T11:47:49.255Z"
   },
   {
    "duration": 8,
    "start_time": "2022-08-15T11:47:50.159Z"
   },
   {
    "duration": 4,
    "start_time": "2022-08-15T11:47:50.168Z"
   },
   {
    "duration": 13,
    "start_time": "2022-08-15T11:47:50.173Z"
   },
   {
    "duration": 23,
    "start_time": "2022-08-15T11:47:50.190Z"
   },
   {
    "duration": 7,
    "start_time": "2022-08-15T11:47:50.214Z"
   },
   {
    "duration": 25,
    "start_time": "2022-08-15T11:47:50.223Z"
   },
   {
    "duration": 4,
    "start_time": "2022-08-15T11:47:50.249Z"
   },
   {
    "duration": 7,
    "start_time": "2022-08-15T11:47:50.254Z"
   },
   {
    "duration": 11,
    "start_time": "2022-08-15T11:47:50.263Z"
   },
   {
    "duration": 4,
    "start_time": "2022-08-15T11:47:50.275Z"
   },
   {
    "duration": 282,
    "start_time": "2022-08-15T11:47:50.280Z"
   },
   {
    "duration": 4,
    "start_time": "2022-08-15T11:47:50.564Z"
   },
   {
    "duration": 34,
    "start_time": "2022-08-15T11:47:50.569Z"
   },
   {
    "duration": 22,
    "start_time": "2022-08-15T11:47:50.604Z"
   },
   {
    "duration": 11,
    "start_time": "2022-08-15T11:47:50.628Z"
   },
   {
    "duration": 3,
    "start_time": "2022-08-15T11:47:50.641Z"
   },
   {
    "duration": 17,
    "start_time": "2022-08-15T11:47:50.645Z"
   },
   {
    "duration": 9,
    "start_time": "2022-08-15T11:47:50.663Z"
   },
   {
    "duration": 387,
    "start_time": "2022-08-15T11:47:50.674Z"
   },
   {
    "duration": 100,
    "start_time": "2022-08-15T11:47:51.063Z"
   },
   {
    "duration": 7,
    "start_time": "2022-08-15T11:47:51.164Z"
   },
   {
    "duration": 7,
    "start_time": "2022-08-15T11:47:51.172Z"
   },
   {
    "duration": 43,
    "start_time": "2022-08-15T11:47:51.180Z"
   },
   {
    "duration": 17,
    "start_time": "2022-08-15T11:47:51.224Z"
   },
   {
    "duration": 4,
    "start_time": "2022-08-15T11:47:51.242Z"
   },
   {
    "duration": 12,
    "start_time": "2022-08-15T11:47:51.247Z"
   },
   {
    "duration": 6,
    "start_time": "2022-08-15T11:47:51.261Z"
   },
   {
    "duration": 8,
    "start_time": "2022-08-15T11:47:51.268Z"
   },
   {
    "duration": 7,
    "start_time": "2022-08-15T11:47:51.277Z"
   },
   {
    "duration": 5,
    "start_time": "2022-08-15T11:47:51.285Z"
   },
   {
    "duration": 255,
    "start_time": "2022-08-15T11:47:51.291Z"
   },
   {
    "duration": 3,
    "start_time": "2022-08-15T11:47:51.548Z"
   },
   {
    "duration": 22,
    "start_time": "2022-08-15T11:47:51.553Z"
   },
   {
    "duration": 449,
    "start_time": "2022-08-15T11:47:51.576Z"
   },
   {
    "duration": 7,
    "start_time": "2022-08-15T11:47:52.027Z"
   },
   {
    "duration": 343,
    "start_time": "2022-08-15T11:47:52.035Z"
   },
   {
    "duration": 324,
    "start_time": "2022-08-15T11:47:52.380Z"
   },
   {
    "duration": 282,
    "start_time": "2022-08-15T11:47:52.713Z"
   },
   {
    "duration": 4,
    "start_time": "2022-08-15T11:47:52.996Z"
   },
   {
    "duration": 25,
    "start_time": "2022-08-15T11:47:53.002Z"
   },
   {
    "duration": 140,
    "start_time": "2022-08-15T11:47:53.030Z"
   },
   {
    "duration": 4,
    "start_time": "2022-08-15T11:47:53.172Z"
   },
   {
    "duration": 149,
    "start_time": "2022-08-15T11:47:53.178Z"
   },
   {
    "duration": 17,
    "start_time": "2022-08-15T11:47:53.329Z"
   },
   {
    "duration": 3,
    "start_time": "2022-08-15T11:47:53.348Z"
   },
   {
    "duration": 165,
    "start_time": "2022-08-15T11:47:53.353Z"
   },
   {
    "duration": 18,
    "start_time": "2022-08-15T11:47:53.523Z"
   },
   {
    "duration": 4,
    "start_time": "2022-08-15T11:47:53.542Z"
   },
   {
    "duration": 158,
    "start_time": "2022-08-15T11:47:53.548Z"
   },
   {
    "duration": 294,
    "start_time": "2022-08-15T11:47:53.714Z"
   },
   {
    "duration": 372,
    "start_time": "2022-08-15T11:47:54.009Z"
   },
   {
    "duration": 9,
    "start_time": "2022-08-15T11:47:54.382Z"
   },
   {
    "duration": 7,
    "start_time": "2022-08-15T11:47:54.392Z"
   },
   {
    "duration": 20,
    "start_time": "2022-08-15T11:47:54.401Z"
   },
   {
    "duration": 4,
    "start_time": "2022-08-15T11:47:54.423Z"
   },
   {
    "duration": 6,
    "start_time": "2022-08-15T11:47:54.429Z"
   },
   {
    "duration": 10,
    "start_time": "2022-08-15T11:47:54.436Z"
   },
   {
    "duration": 3,
    "start_time": "2022-08-15T11:47:54.451Z"
   },
   {
    "duration": 5,
    "start_time": "2022-08-15T11:47:54.455Z"
   },
   {
    "duration": 5,
    "start_time": "2022-08-15T11:47:54.461Z"
   },
   {
    "duration": 11,
    "start_time": "2022-08-15T11:47:54.467Z"
   },
   {
    "duration": 9,
    "start_time": "2022-08-15T11:47:54.479Z"
   },
   {
    "duration": 32,
    "start_time": "2022-08-15T11:47:54.490Z"
   },
   {
    "duration": 4,
    "start_time": "2022-08-15T11:47:54.524Z"
   },
   {
    "duration": 337,
    "start_time": "2022-08-15T11:47:54.530Z"
   },
   {
    "duration": 104,
    "start_time": "2022-08-15T11:47:54.868Z"
   },
   {
    "duration": 9,
    "start_time": "2022-08-15T11:47:54.974Z"
   },
   {
    "duration": 6,
    "start_time": "2022-08-15T11:47:54.984Z"
   },
   {
    "duration": 8,
    "start_time": "2022-08-15T11:47:54.991Z"
   },
   {
    "duration": 7,
    "start_time": "2022-08-15T11:47:55.018Z"
   },
   {
    "duration": 6,
    "start_time": "2022-08-15T11:47:55.027Z"
   },
   {
    "duration": 5,
    "start_time": "2022-08-15T11:47:55.034Z"
   },
   {
    "duration": 10,
    "start_time": "2022-08-15T11:47:55.041Z"
   },
   {
    "duration": 3,
    "start_time": "2022-08-15T11:47:55.053Z"
   },
   {
    "duration": 9,
    "start_time": "2022-08-15T11:47:55.058Z"
   },
   {
    "duration": 6,
    "start_time": "2022-08-15T11:47:55.068Z"
   },
   {
    "duration": 9,
    "start_time": "2022-08-15T11:47:55.076Z"
   },
   {
    "duration": 3,
    "start_time": "2022-08-15T11:47:55.087Z"
   },
   {
    "duration": 31,
    "start_time": "2022-08-15T11:47:55.091Z"
   },
   {
    "duration": 6,
    "start_time": "2022-08-15T11:47:55.124Z"
   },
   {
    "duration": 333,
    "start_time": "2022-08-15T11:47:55.131Z"
   },
   {
    "duration": 4,
    "start_time": "2022-08-15T11:47:55.466Z"
   },
   {
    "duration": 9,
    "start_time": "2022-08-15T11:47:55.472Z"
   },
   {
    "duration": 164,
    "start_time": "2022-08-15T11:47:55.482Z"
   },
   {
    "duration": 6,
    "start_time": "2022-08-15T11:47:55.647Z"
   },
   {
    "duration": 132,
    "start_time": "2022-08-15T11:47:55.654Z"
   },
   {
    "duration": 5,
    "start_time": "2022-08-15T11:47:55.788Z"
   },
   {
    "duration": 146,
    "start_time": "2022-08-15T11:47:55.795Z"
   },
   {
    "duration": 7,
    "start_time": "2022-08-15T11:47:55.942Z"
   },
   {
    "duration": 11,
    "start_time": "2022-08-15T11:47:55.951Z"
   },
   {
    "duration": 7,
    "start_time": "2022-08-15T11:47:55.964Z"
   },
   {
    "duration": 53,
    "start_time": "2022-08-15T11:47:55.973Z"
   },
   {
    "duration": 3,
    "start_time": "2022-08-15T11:47:56.028Z"
   },
   {
    "duration": 10,
    "start_time": "2022-08-15T11:47:56.032Z"
   },
   {
    "duration": 6,
    "start_time": "2022-08-15T11:47:56.043Z"
   },
   {
    "duration": 5,
    "start_time": "2022-08-15T11:47:56.051Z"
   },
   {
    "duration": 6,
    "start_time": "2022-08-15T11:47:56.057Z"
   },
   {
    "duration": 24,
    "start_time": "2022-08-15T11:47:56.064Z"
   },
   {
    "duration": 601,
    "start_time": "2022-08-15T11:47:56.090Z"
   },
   {
    "duration": 550,
    "start_time": "2022-08-15T11:47:56.693Z"
   },
   {
    "duration": 49,
    "start_time": "2022-08-15T18:07:43.034Z"
   },
   {
    "duration": 99,
    "start_time": "2022-08-15T18:08:13.230Z"
   },
   {
    "duration": 3,
    "start_time": "2022-08-15T18:08:14.868Z"
   },
   {
    "duration": 9,
    "start_time": "2022-08-15T18:08:15.147Z"
   },
   {
    "duration": 7,
    "start_time": "2022-08-15T18:08:15.343Z"
   },
   {
    "duration": 5,
    "start_time": "2022-08-15T18:08:15.535Z"
   },
   {
    "duration": 15,
    "start_time": "2022-08-15T18:08:15.719Z"
   },
   {
    "duration": 8,
    "start_time": "2022-08-15T18:08:15.908Z"
   },
   {
    "duration": 620,
    "start_time": "2022-08-15T18:08:16.340Z"
   },
   {
    "duration": 594,
    "start_time": "2022-08-15T18:08:16.962Z"
   },
   {
    "duration": 1984,
    "start_time": "2022-08-15T18:09:21.969Z"
   },
   {
    "duration": 147,
    "start_time": "2022-08-15T18:09:23.955Z"
   },
   {
    "duration": 42,
    "start_time": "2022-08-15T18:09:24.103Z"
   },
   {
    "duration": 16,
    "start_time": "2022-08-15T18:09:24.147Z"
   },
   {
    "duration": 616,
    "start_time": "2022-08-15T18:09:24.164Z"
   },
   {
    "duration": 3,
    "start_time": "2022-08-15T18:09:24.781Z"
   },
   {
    "duration": 59,
    "start_time": "2022-08-15T18:09:24.786Z"
   },
   {
    "duration": 13,
    "start_time": "2022-08-15T18:09:24.851Z"
   },
   {
    "duration": 13,
    "start_time": "2022-08-15T18:09:24.865Z"
   },
   {
    "duration": 13,
    "start_time": "2022-08-15T18:09:24.880Z"
   },
   {
    "duration": 26,
    "start_time": "2022-08-15T18:09:24.895Z"
   },
   {
    "duration": 29,
    "start_time": "2022-08-15T18:09:24.923Z"
   },
   {
    "duration": 15,
    "start_time": "2022-08-15T18:09:24.954Z"
   },
   {
    "duration": 12,
    "start_time": "2022-08-15T18:09:24.971Z"
   },
   {
    "duration": 7,
    "start_time": "2022-08-15T18:09:24.984Z"
   },
   {
    "duration": 4,
    "start_time": "2022-08-15T18:09:24.993Z"
   },
   {
    "duration": 6,
    "start_time": "2022-08-15T18:09:24.999Z"
   },
   {
    "duration": 73,
    "start_time": "2022-08-15T18:09:25.007Z"
   },
   {
    "duration": 6,
    "start_time": "2022-08-15T18:09:25.082Z"
   },
   {
    "duration": 87,
    "start_time": "2022-08-15T18:09:25.089Z"
   },
   {
    "duration": 692,
    "start_time": "2022-08-15T18:09:25.178Z"
   },
   {
    "duration": 7,
    "start_time": "2022-08-15T18:09:25.872Z"
   },
   {
    "duration": 36,
    "start_time": "2022-08-15T18:09:25.881Z"
   },
   {
    "duration": 15,
    "start_time": "2022-08-15T18:09:25.918Z"
   },
   {
    "duration": 1105,
    "start_time": "2022-08-15T18:09:25.934Z"
   },
   {
    "duration": 8,
    "start_time": "2022-08-15T18:09:27.041Z"
   },
   {
    "duration": 3,
    "start_time": "2022-08-15T18:09:27.050Z"
   },
   {
    "duration": 14,
    "start_time": "2022-08-15T18:09:27.057Z"
   },
   {
    "duration": 4,
    "start_time": "2022-08-15T18:09:27.073Z"
   },
   {
    "duration": 6,
    "start_time": "2022-08-15T18:09:27.078Z"
   },
   {
    "duration": 69,
    "start_time": "2022-08-15T18:09:27.085Z"
   },
   {
    "duration": 9,
    "start_time": "2022-08-15T18:09:27.155Z"
   },
   {
    "duration": 7,
    "start_time": "2022-08-15T18:09:27.165Z"
   },
   {
    "duration": 20,
    "start_time": "2022-08-15T18:09:27.173Z"
   },
   {
    "duration": 79,
    "start_time": "2022-08-15T18:09:27.194Z"
   },
   {
    "duration": 320,
    "start_time": "2022-08-15T18:09:27.275Z"
   },
   {
    "duration": 6,
    "start_time": "2022-08-15T18:09:27.596Z"
   },
   {
    "duration": 78,
    "start_time": "2022-08-15T18:09:27.603Z"
   },
   {
    "duration": 16,
    "start_time": "2022-08-15T18:09:27.683Z"
   },
   {
    "duration": 33,
    "start_time": "2022-08-15T18:09:27.700Z"
   },
   {
    "duration": 11,
    "start_time": "2022-08-15T18:09:27.743Z"
   },
   {
    "duration": 17,
    "start_time": "2022-08-15T18:09:27.755Z"
   },
   {
    "duration": 9,
    "start_time": "2022-08-15T18:09:27.773Z"
   },
   {
    "duration": 386,
    "start_time": "2022-08-15T18:09:27.784Z"
   },
   {
    "duration": 113,
    "start_time": "2022-08-15T18:09:28.171Z"
   },
   {
    "duration": 7,
    "start_time": "2022-08-15T18:09:28.285Z"
   },
   {
    "duration": 18,
    "start_time": "2022-08-15T18:09:28.294Z"
   },
   {
    "duration": 37,
    "start_time": "2022-08-15T18:09:28.314Z"
   },
   {
    "duration": 20,
    "start_time": "2022-08-15T18:09:28.352Z"
   },
   {
    "duration": 4,
    "start_time": "2022-08-15T18:09:28.373Z"
   },
   {
    "duration": 12,
    "start_time": "2022-08-15T18:09:28.379Z"
   },
   {
    "duration": 6,
    "start_time": "2022-08-15T18:09:28.392Z"
   },
   {
    "duration": 29,
    "start_time": "2022-08-15T18:09:28.399Z"
   },
   {
    "duration": 10,
    "start_time": "2022-08-15T18:09:28.447Z"
   },
   {
    "duration": 6,
    "start_time": "2022-08-15T18:09:28.458Z"
   },
   {
    "duration": 280,
    "start_time": "2022-08-15T18:09:28.465Z"
   },
   {
    "duration": 11,
    "start_time": "2022-08-15T18:09:28.747Z"
   },
   {
    "duration": 27,
    "start_time": "2022-08-15T18:09:28.760Z"
   },
   {
    "duration": 423,
    "start_time": "2022-08-15T18:09:28.789Z"
   },
   {
    "duration": 15,
    "start_time": "2022-08-15T18:09:29.213Z"
   },
   {
    "duration": 336,
    "start_time": "2022-08-15T18:09:29.230Z"
   },
   {
    "duration": 363,
    "start_time": "2022-08-15T18:09:29.568Z"
   },
   {
    "duration": 16,
    "start_time": "2022-08-15T18:09:29.932Z"
   },
   {
    "duration": 12,
    "start_time": "2022-08-15T18:09:29.949Z"
   },
   {
    "duration": 174,
    "start_time": "2022-08-15T18:09:29.962Z"
   },
   {
    "duration": 6,
    "start_time": "2022-08-15T18:09:30.151Z"
   },
   {
    "duration": 197,
    "start_time": "2022-08-15T18:09:30.158Z"
   },
   {
    "duration": 66,
    "start_time": "2022-08-15T18:09:30.359Z"
   },
   {
    "duration": 32,
    "start_time": "2022-08-15T18:09:30.427Z"
   },
   {
    "duration": 183,
    "start_time": "2022-08-15T18:09:30.460Z"
   },
   {
    "duration": 21,
    "start_time": "2022-08-15T18:09:30.645Z"
   },
   {
    "duration": 14,
    "start_time": "2022-08-15T18:09:30.668Z"
   },
   {
    "duration": 230,
    "start_time": "2022-08-15T18:09:30.683Z"
   },
   {
    "duration": 341,
    "start_time": "2022-08-15T18:09:30.934Z"
   },
   {
    "duration": 307,
    "start_time": "2022-08-15T18:09:31.277Z"
   },
   {
    "duration": 6,
    "start_time": "2022-08-15T18:09:31.585Z"
   },
   {
    "duration": 74,
    "start_time": "2022-08-15T18:09:31.593Z"
   },
   {
    "duration": 631,
    "start_time": "2022-08-15T18:09:31.669Z"
   },
   {
    "duration": 707,
    "start_time": "2022-08-15T18:09:32.301Z"
   },
   {
    "duration": 3,
    "start_time": "2022-08-15T18:09:33.027Z"
   },
   {
    "duration": 53,
    "start_time": "2022-08-15T18:09:33.038Z"
   },
   {
    "duration": 699,
    "start_time": "2022-08-15T18:09:33.098Z"
   },
   {
    "duration": 589,
    "start_time": "2022-08-15T18:09:33.798Z"
   },
   {
    "duration": 4,
    "start_time": "2022-08-15T18:09:34.389Z"
   },
   {
    "duration": 35,
    "start_time": "2022-08-15T18:09:34.394Z"
   },
   {
    "duration": 176,
    "start_time": "2022-08-15T18:09:34.434Z"
   },
   {
    "duration": 23,
    "start_time": "2022-08-15T18:09:34.628Z"
   },
   {
    "duration": 188,
    "start_time": "2022-08-15T18:09:34.653Z"
   },
   {
    "duration": 16,
    "start_time": "2022-08-15T18:09:34.843Z"
   },
   {
    "duration": 183,
    "start_time": "2022-08-15T18:09:34.860Z"
   },
   {
    "duration": 11,
    "start_time": "2022-08-15T18:09:35.051Z"
   },
   {
    "duration": 35,
    "start_time": "2022-08-15T18:09:35.064Z"
   },
   {
    "duration": 58,
    "start_time": "2022-08-15T18:09:35.101Z"
   },
   {
    "duration": 142,
    "start_time": "2022-08-15T18:09:35.160Z"
   },
   {
    "duration": 2,
    "start_time": "2022-08-15T18:09:35.304Z"
   },
   {
    "duration": 42,
    "start_time": "2022-08-15T18:09:35.308Z"
   },
   {
    "duration": 15,
    "start_time": "2022-08-15T18:09:35.353Z"
   },
   {
    "duration": 10,
    "start_time": "2022-08-15T18:09:35.370Z"
   },
   {
    "duration": 12,
    "start_time": "2022-08-15T18:09:35.381Z"
   },
   {
    "duration": 61,
    "start_time": "2022-08-15T18:09:35.394Z"
   },
   {
    "duration": 656,
    "start_time": "2022-08-15T18:09:35.457Z"
   },
   {
    "duration": 738,
    "start_time": "2022-08-15T18:09:36.134Z"
   },
   {
    "duration": 16,
    "start_time": "2022-08-15T18:10:59.141Z"
   },
   {
    "duration": 4,
    "start_time": "2022-08-15T18:11:31.194Z"
   }
  ],
  "kernelspec": {
   "display_name": "Python 3 (ipykernel)",
   "language": "python",
   "name": "python3"
  },
  "language_info": {
   "codemirror_mode": {
    "name": "ipython",
    "version": 3
   },
   "file_extension": ".py",
   "mimetype": "text/x-python",
   "name": "python",
   "nbconvert_exporter": "python",
   "pygments_lexer": "ipython3",
   "version": "3.9.13"
  },
  "toc": {
   "base_numbering": 1,
   "nav_menu": {},
   "number_sections": true,
   "sideBar": true,
   "skip_h1_title": true,
   "title_cell": "Table of Contents",
   "title_sidebar": "Contents",
   "toc_cell": false,
   "toc_position": {
    "height": "441px",
    "left": "307px",
    "top": "111.125px",
    "width": "192px"
   },
   "toc_section_display": true,
   "toc_window_display": true
  }
 },
 "nbformat": 4,
 "nbformat_minor": 5
}
